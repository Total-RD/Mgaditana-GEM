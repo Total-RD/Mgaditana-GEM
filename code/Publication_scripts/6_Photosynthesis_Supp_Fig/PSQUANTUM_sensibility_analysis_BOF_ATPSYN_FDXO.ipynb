{
 "cells": [
  {
   "cell_type": "markdown",
   "metadata": {},
   "source": [
    "# Impact of PSQUANTUM [absorbed photon / used photon]\n"
   ]
  },
  {
   "cell_type": "markdown",
   "metadata": {},
   "source": [
    "### Directories"
   ]
  },
  {
   "cell_type": "code",
   "execution_count": 1,
   "metadata": {},
   "outputs": [],
   "source": [
    "GEM_folder = \"..\\..\\..\" # to update if necessary"
   ]
  },
  {
   "cell_type": "code",
   "execution_count": 2,
   "metadata": {},
   "outputs": [],
   "source": [
    "modelfile = \"model\\\\iMgadit23.json\""
   ]
  },
  {
   "cell_type": "markdown",
   "metadata": {},
   "source": [
    "### Imports"
   ]
  },
  {
   "cell_type": "code",
   "execution_count": 3,
   "metadata": {},
   "outputs": [],
   "source": [
    "import cobra\n",
    "from cobra.flux_analysis.parsimonious import pfba\n",
    "import pandas as pd\n",
    "import numpy as np\n",
    "from matplotlib import pyplot as plt\n",
    "\n",
    "from os.path import join as __join"
   ]
  },
  {
   "cell_type": "code",
   "execution_count": 4,
   "metadata": {},
   "outputs": [
    {
     "name": "stdout",
     "output_type": "stream",
     "text": [
      "\n",
      "System Information\n",
      "==================\n",
      "OS         Windows\n",
      "OS-release      10\n",
      "Python      3.6.13\n",
      "\n",
      "Package Versions\n",
      "================\n",
      "appdirs                                      1.4.4\n",
      "black ; extra == 'development'       not installed\n",
      "bumpversion ; extra == 'development' not installed\n",
      "cobra                                       0.21.0\n",
      "depinfo                                      1.7.0\n",
      "diskcache                                    5.6.1\n",
      "future                                      0.18.3\n",
      "httpx                                       0.22.0\n",
      "importlib-resources                          5.4.0\n",
      "isort ; extra == 'development'       not installed\n",
      "numpy                                       1.19.5\n",
      "optlang                                      1.4.2\n",
      "pandas                                       1.1.5\n",
      "pip                                         21.2.2\n",
      "pydantic                                     1.9.2\n",
      "python-libsbml                              5.19.0\n",
      "rich                                         6.2.0\n",
      "ruamel.yaml                                0.17.32\n",
      "scipy                                        1.5.4\n",
      "setuptools                                  58.0.4\n",
      "six                                         1.16.0\n",
      "swiglpk                                      5.0.8\n",
      "tox ; extra == 'development'         not installed\n",
      "wheel                                       0.37.1\n"
     ]
    }
   ],
   "source": [
    "cobra.show_versions()"
   ]
  },
  {
   "cell_type": "markdown",
   "metadata": {},
   "source": [
    "### Model"
   ]
  },
  {
   "cell_type": "code",
   "execution_count": 5,
   "metadata": {},
   "outputs": [],
   "source": [
    "iMgadit = cobra.io.load_json_model(__join(GEM_folder, modelfile))"
   ]
  },
  {
   "cell_type": "code",
   "execution_count": 6,
   "metadata": {},
   "outputs": [
    {
     "data": {
      "text/html": [
       "\n",
       "        <table>\n",
       "            <tr>\n",
       "                <td><strong>Name</strong></td>\n",
       "                <td>iMgadit23</td>\n",
       "            </tr><tr>\n",
       "                <td><strong>Memory address</strong></td>\n",
       "                <td>0x022ea8acc0f0</td>\n",
       "            </tr><tr>\n",
       "                <td><strong>Number of metabolites</strong></td>\n",
       "                <td>1977</td>\n",
       "            </tr><tr>\n",
       "                <td><strong>Number of reactions</strong></td>\n",
       "                <td>2330</td>\n",
       "            </tr><tr>\n",
       "                <td><strong>Number of groups</strong></td>\n",
       "                <td>0</td>\n",
       "            </tr><tr>\n",
       "                <td><strong>Objective expression</strong></td>\n",
       "                <td>1.0*BIOMASS_biomass_WT526_c - 1.0*BIOMASS_biomass_WT526_c_reverse_10352</td>\n",
       "            </tr><tr>\n",
       "                <td><strong>Compartments</strong></td>\n",
       "                <td>chloroplast stroma, endoplasmic reticulum, extracellular, cytosol, peroxisome, mitochondrial matrix, chloroplast lumen, mitochondrial intermembrane space</td>\n",
       "            </tr>\n",
       "          </table>"
      ],
      "text/plain": [
       "<Model iMgadit23 at 0x22ea8acc0f0>"
      ]
     },
     "execution_count": 6,
     "metadata": {},
     "output_type": "execute_result"
    }
   ],
   "source": [
    "iMgadit"
   ]
  },
  {
   "cell_type": "code",
   "execution_count": 7,
   "metadata": {},
   "outputs": [
    {
     "data": {
      "text/html": [
       "\n",
       "        <table>\n",
       "            <tr>\n",
       "                <td><strong>Reaction identifier</strong></td><td>PSQUANTUM_h</td>\n",
       "            </tr><tr>\n",
       "                <td><strong>Name</strong></td><td>Quantum requirement of Photosynthesis</td>\n",
       "            </tr><tr>\n",
       "                <td><strong>Memory address</strong></td>\n",
       "                <td>0x022ea9bfaac8</td>\n",
       "            </tr><tr>\n",
       "                <td><strong>Stoichiometry</strong></td>\n",
       "                <td>\n",
       "                    <p style='text-align:right'>10 photon_abs_h <=> 8 photon_lef_h</p>\n",
       "                    <p style='text-align:right'>10 Absorbed photon <=> 8 Photon LEF (Linear Electron Flow)</p>\n",
       "                </td>\n",
       "            </tr><tr>\n",
       "                <td><strong>GPR</strong></td><td>NO_GENE</td>\n",
       "            </tr><tr>\n",
       "                <td><strong>Lower bound</strong></td><td>-100000.0</td>\n",
       "            </tr><tr>\n",
       "                <td><strong>Upper bound</strong></td><td>100000.0</td>\n",
       "            </tr>\n",
       "        </table>\n",
       "        "
      ],
      "text/plain": [
       "<Reaction PSQUANTUM_h at 0x22ea9bfaac8>"
      ]
     },
     "execution_count": 7,
     "metadata": {},
     "output_type": "execute_result"
    }
   ],
   "source": [
    "iMgadit.reactions.PSQUANTUM_h "
   ]
  },
  {
   "cell_type": "code",
   "execution_count": 8,
   "metadata": {},
   "outputs": [
    {
     "data": {
      "text/html": [
       "\n",
       "        <table>\n",
       "            <tr>\n",
       "                <td><strong>Reaction identifier</strong></td><td>NGAM_c</td>\n",
       "            </tr><tr>\n",
       "                <td><strong>Name</strong></td><td>Non Growth Associated ATP Maintenance (NGAM)</td>\n",
       "            </tr><tr>\n",
       "                <td><strong>Memory address</strong></td>\n",
       "                <td>0x022ea8f3a9e8</td>\n",
       "            </tr><tr>\n",
       "                <td><strong>Stoichiometry</strong></td>\n",
       "                <td>\n",
       "                    <p style='text-align:right'>atp_c + h2o_c --> adp_c + h_c + pi_c</p>\n",
       "                    <p style='text-align:right'>ATP + Water --> ADP + H+ + Orthophosphate</p>\n",
       "                </td>\n",
       "            </tr><tr>\n",
       "                <td><strong>GPR</strong></td><td>NO_GENE</td>\n",
       "            </tr><tr>\n",
       "                <td><strong>Lower bound</strong></td><td>2.2</td>\n",
       "            </tr><tr>\n",
       "                <td><strong>Upper bound</strong></td><td>100000.0</td>\n",
       "            </tr>\n",
       "        </table>\n",
       "        "
      ],
      "text/plain": [
       "<Reaction NGAM_c at 0x22ea8f3a9e8>"
      ]
     },
     "execution_count": 8,
     "metadata": {},
     "output_type": "execute_result"
    }
   ],
   "source": [
    "iMgadit.reactions.NGAM_c"
   ]
  },
  {
   "cell_type": "code",
   "execution_count": 9,
   "metadata": {},
   "outputs": [],
   "source": [
    "obj_rxn = \"BIOMASS_biomass_WT526_c\""
   ]
  },
  {
   "cell_type": "code",
   "execution_count": 10,
   "metadata": {},
   "outputs": [],
   "source": [
    "photon = np.arange(0,25,0.5)"
   ]
  },
  {
   "cell_type": "code",
   "execution_count": 11,
   "metadata": {},
   "outputs": [
    {
     "data": {
      "text/plain": [
       "array([ 0. ,  0.5,  1. ,  1.5,  2. ,  2.5,  3. ,  3.5,  4. ,  4.5,  5. ,\n",
       "        5.5,  6. ,  6.5,  7. ,  7.5,  8. ,  8.5,  9. ,  9.5, 10. , 10.5,\n",
       "       11. , 11.5, 12. , 12.5, 13. , 13.5, 14. , 14.5, 15. , 15.5, 16. ,\n",
       "       16.5, 17. , 17.5, 18. , 18.5, 19. , 19.5, 20. , 20.5, 21. , 21.5,\n",
       "       22. , 22.5, 23. , 23.5, 24. , 24.5])"
      ]
     },
     "execution_count": 11,
     "metadata": {},
     "output_type": "execute_result"
    }
   ],
   "source": [
    "photon"
   ]
  },
  {
   "cell_type": "markdown",
   "metadata": {},
   "source": [
    "# 1) PSQUANTUM"
   ]
  },
  {
   "cell_type": "code",
   "execution_count": 12,
   "metadata": {},
   "outputs": [],
   "source": [
    "psquantum_values = [8,9,10,11,12]"
   ]
  },
  {
   "cell_type": "code",
   "execution_count": 13,
   "metadata": {},
   "outputs": [
    {
     "data": {
      "text/plain": [
       "[8, 9, 10, 11, 12]"
      ]
     },
     "execution_count": 13,
     "metadata": {},
     "output_type": "execute_result"
    }
   ],
   "source": [
    "psquantum_values"
   ]
  },
  {
   "cell_type": "code",
   "execution_count": 14,
   "metadata": {},
   "outputs": [],
   "source": [
    "dict_growth = {}\n",
    "dict_atpsyn = {}\n",
    "dict_fdxo = {}\n",
    "dict_ratio_atp_nadph = {}\n",
    "\n",
    "for my_psquantum in psquantum_values:\n",
    "    res_growth = []\n",
    "    res_atpsyn = []\n",
    "    res_fdxo = []\n",
    "    res_ratio = []\n",
    "    iMgadit.reactions.PSQUANTUM_h.reaction = str(my_psquantum) + \" photon_abs_h <=> 8 photon_lef_h\"\n",
    "    \n",
    "    for ph in photon:\n",
    "        iMgadit.reactions.EX_photon_abs_.lower_bound = - ph\n",
    "        iMgadit.reactions.EX_photon_abs_.upper_bound = - ph\n",
    "        \n",
    "        try:\n",
    "            iMgadit.objective = obj_rxn\n",
    "            solution = pfba(iMgadit)\n",
    "            res_growth.append(solution[obj_rxn])\n",
    "            res_atpsyn.append(solution[\"ATPSYN_h\"])\n",
    "            res_fdxo.append(solution[\"FDXO_h\"])\n",
    "            res_ratio.append(solution[\"ATPSYN_h\"]/solution[\"FDXO_h\"])\n",
    "            \n",
    "        except:\n",
    "            res_growth.append(np.nan)\n",
    "            res_atpsyn.append(np.nan)\n",
    "            res_fdxo.append(np.nan)\n",
    "            res_ratio.append(np.nan)\n",
    "            \n",
    "    dict_growth[my_psquantum] = res_growth\n",
    "    dict_atpsyn[my_psquantum] = res_atpsyn\n",
    "    dict_fdxo[my_psquantum] = res_fdxo\n",
    "    dict_ratio_atp_nadph[my_psquantum] = res_ratio"
   ]
  },
  {
   "cell_type": "code",
   "execution_count": 15,
   "metadata": {},
   "outputs": [],
   "source": [
    "df_psquantum = pd.DataFrame.from_dict(dict_growth,orient=\"index\")\n",
    "df_atpsyn = pd.DataFrame.from_dict(dict_atpsyn,orient=\"index\")\n",
    "df_fdxo = pd.DataFrame.from_dict(dict_fdxo,orient=\"index\")\n",
    "df_ratio_atp_nadph = pd.DataFrame.from_dict(dict_ratio_atp_nadph,orient=\"index\")"
   ]
  },
  {
   "cell_type": "code",
   "execution_count": 16,
   "metadata": {},
   "outputs": [
    {
     "data": {
      "text/html": [
       "<div>\n",
       "<style scoped>\n",
       "    .dataframe tbody tr th:only-of-type {\n",
       "        vertical-align: middle;\n",
       "    }\n",
       "\n",
       "    .dataframe tbody tr th {\n",
       "        vertical-align: top;\n",
       "    }\n",
       "\n",
       "    .dataframe thead th {\n",
       "        text-align: right;\n",
       "    }\n",
       "</style>\n",
       "<table border=\"1\" class=\"dataframe\">\n",
       "  <thead>\n",
       "    <tr style=\"text-align: right;\">\n",
       "      <th></th>\n",
       "      <th>0</th>\n",
       "      <th>1</th>\n",
       "      <th>2</th>\n",
       "      <th>3</th>\n",
       "      <th>4</th>\n",
       "      <th>5</th>\n",
       "      <th>6</th>\n",
       "      <th>7</th>\n",
       "      <th>8</th>\n",
       "      <th>9</th>\n",
       "      <th>...</th>\n",
       "      <th>40</th>\n",
       "      <th>41</th>\n",
       "      <th>42</th>\n",
       "      <th>43</th>\n",
       "      <th>44</th>\n",
       "      <th>45</th>\n",
       "      <th>46</th>\n",
       "      <th>47</th>\n",
       "      <th>48</th>\n",
       "      <th>49</th>\n",
       "    </tr>\n",
       "  </thead>\n",
       "  <tbody>\n",
       "    <tr>\n",
       "      <th>8</th>\n",
       "      <td>NaN</td>\n",
       "      <td>NaN</td>\n",
       "      <td>NaN</td>\n",
       "      <td>NaN</td>\n",
       "      <td>NaN</td>\n",
       "      <td>NaN</td>\n",
       "      <td>NaN</td>\n",
       "      <td>NaN</td>\n",
       "      <td>0.000112</td>\n",
       "      <td>0.001047</td>\n",
       "      <td>...</td>\n",
       "      <td>0.030037</td>\n",
       "      <td>0.030972</td>\n",
       "      <td>0.031908</td>\n",
       "      <td>0.032843</td>\n",
       "      <td>0.033778</td>\n",
       "      <td>0.034713</td>\n",
       "      <td>0.035648</td>\n",
       "      <td>0.036584</td>\n",
       "      <td>0.037519</td>\n",
       "      <td>0.038454</td>\n",
       "    </tr>\n",
       "    <tr>\n",
       "      <th>9</th>\n",
       "      <td>NaN</td>\n",
       "      <td>NaN</td>\n",
       "      <td>NaN</td>\n",
       "      <td>NaN</td>\n",
       "      <td>NaN</td>\n",
       "      <td>NaN</td>\n",
       "      <td>NaN</td>\n",
       "      <td>NaN</td>\n",
       "      <td>NaN</td>\n",
       "      <td>0.000112</td>\n",
       "      <td>...</td>\n",
       "      <td>0.025881</td>\n",
       "      <td>0.026712</td>\n",
       "      <td>0.027543</td>\n",
       "      <td>0.028375</td>\n",
       "      <td>0.029206</td>\n",
       "      <td>0.030037</td>\n",
       "      <td>0.030869</td>\n",
       "      <td>0.031700</td>\n",
       "      <td>0.032531</td>\n",
       "      <td>0.033362</td>\n",
       "    </tr>\n",
       "    <tr>\n",
       "      <th>10</th>\n",
       "      <td>NaN</td>\n",
       "      <td>NaN</td>\n",
       "      <td>NaN</td>\n",
       "      <td>NaN</td>\n",
       "      <td>NaN</td>\n",
       "      <td>NaN</td>\n",
       "      <td>NaN</td>\n",
       "      <td>NaN</td>\n",
       "      <td>NaN</td>\n",
       "      <td>NaN</td>\n",
       "      <td>...</td>\n",
       "      <td>0.022556</td>\n",
       "      <td>0.023304</td>\n",
       "      <td>0.024052</td>\n",
       "      <td>0.024800</td>\n",
       "      <td>0.025548</td>\n",
       "      <td>0.026297</td>\n",
       "      <td>0.027045</td>\n",
       "      <td>0.027793</td>\n",
       "      <td>0.028541</td>\n",
       "      <td>0.029289</td>\n",
       "    </tr>\n",
       "    <tr>\n",
       "      <th>11</th>\n",
       "      <td>NaN</td>\n",
       "      <td>NaN</td>\n",
       "      <td>NaN</td>\n",
       "      <td>NaN</td>\n",
       "      <td>NaN</td>\n",
       "      <td>NaN</td>\n",
       "      <td>NaN</td>\n",
       "      <td>NaN</td>\n",
       "      <td>NaN</td>\n",
       "      <td>NaN</td>\n",
       "      <td>...</td>\n",
       "      <td>0.019835</td>\n",
       "      <td>0.020516</td>\n",
       "      <td>0.021196</td>\n",
       "      <td>0.021876</td>\n",
       "      <td>0.022556</td>\n",
       "      <td>0.023236</td>\n",
       "      <td>0.023916</td>\n",
       "      <td>0.024596</td>\n",
       "      <td>0.025276</td>\n",
       "      <td>0.025957</td>\n",
       "    </tr>\n",
       "    <tr>\n",
       "      <th>12</th>\n",
       "      <td>NaN</td>\n",
       "      <td>NaN</td>\n",
       "      <td>NaN</td>\n",
       "      <td>NaN</td>\n",
       "      <td>NaN</td>\n",
       "      <td>NaN</td>\n",
       "      <td>NaN</td>\n",
       "      <td>NaN</td>\n",
       "      <td>NaN</td>\n",
       "      <td>NaN</td>\n",
       "      <td>...</td>\n",
       "      <td>0.017568</td>\n",
       "      <td>0.018192</td>\n",
       "      <td>0.018815</td>\n",
       "      <td>0.019439</td>\n",
       "      <td>0.020062</td>\n",
       "      <td>0.020686</td>\n",
       "      <td>0.021309</td>\n",
       "      <td>0.021932</td>\n",
       "      <td>0.022556</td>\n",
       "      <td>0.023179</td>\n",
       "    </tr>\n",
       "  </tbody>\n",
       "</table>\n",
       "<p>5 rows × 50 columns</p>\n",
       "</div>"
      ],
      "text/plain": [
       "    0   1   2   3   4   5   6   7         8         9   ...        40  \\\n",
       "8  NaN NaN NaN NaN NaN NaN NaN NaN  0.000112  0.001047  ...  0.030037   \n",
       "9  NaN NaN NaN NaN NaN NaN NaN NaN       NaN  0.000112  ...  0.025881   \n",
       "10 NaN NaN NaN NaN NaN NaN NaN NaN       NaN       NaN  ...  0.022556   \n",
       "11 NaN NaN NaN NaN NaN NaN NaN NaN       NaN       NaN  ...  0.019835   \n",
       "12 NaN NaN NaN NaN NaN NaN NaN NaN       NaN       NaN  ...  0.017568   \n",
       "\n",
       "          41        42        43        44        45        46        47  \\\n",
       "8   0.030972  0.031908  0.032843  0.033778  0.034713  0.035648  0.036584   \n",
       "9   0.026712  0.027543  0.028375  0.029206  0.030037  0.030869  0.031700   \n",
       "10  0.023304  0.024052  0.024800  0.025548  0.026297  0.027045  0.027793   \n",
       "11  0.020516  0.021196  0.021876  0.022556  0.023236  0.023916  0.024596   \n",
       "12  0.018192  0.018815  0.019439  0.020062  0.020686  0.021309  0.021932   \n",
       "\n",
       "          48        49  \n",
       "8   0.037519  0.038454  \n",
       "9   0.032531  0.033362  \n",
       "10  0.028541  0.029289  \n",
       "11  0.025276  0.025957  \n",
       "12  0.022556  0.023179  \n",
       "\n",
       "[5 rows x 50 columns]"
      ]
     },
     "execution_count": 16,
     "metadata": {},
     "output_type": "execute_result"
    }
   ],
   "source": [
    "df_psquantum"
   ]
  },
  {
   "cell_type": "code",
   "execution_count": 17,
   "metadata": {},
   "outputs": [],
   "source": [
    "df_psquantum.columns = photon\n",
    "df_atpsyn.columns = photon\n",
    "df_fdxo.columns = photon\n",
    "df_ratio_atp_nadph .columns = photon"
   ]
  },
  {
   "cell_type": "code",
   "execution_count": 18,
   "metadata": {
    "scrolled": true
   },
   "outputs": [
    {
     "data": {
      "text/html": [
       "<div>\n",
       "<style scoped>\n",
       "    .dataframe tbody tr th:only-of-type {\n",
       "        vertical-align: middle;\n",
       "    }\n",
       "\n",
       "    .dataframe tbody tr th {\n",
       "        vertical-align: top;\n",
       "    }\n",
       "\n",
       "    .dataframe thead th {\n",
       "        text-align: right;\n",
       "    }\n",
       "</style>\n",
       "<table border=\"1\" class=\"dataframe\">\n",
       "  <thead>\n",
       "    <tr style=\"text-align: right;\">\n",
       "      <th></th>\n",
       "      <th>0.0</th>\n",
       "      <th>0.5</th>\n",
       "      <th>1.0</th>\n",
       "      <th>1.5</th>\n",
       "      <th>2.0</th>\n",
       "      <th>2.5</th>\n",
       "      <th>3.0</th>\n",
       "      <th>3.5</th>\n",
       "      <th>4.0</th>\n",
       "      <th>4.5</th>\n",
       "      <th>...</th>\n",
       "      <th>20.0</th>\n",
       "      <th>20.5</th>\n",
       "      <th>21.0</th>\n",
       "      <th>21.5</th>\n",
       "      <th>22.0</th>\n",
       "      <th>22.5</th>\n",
       "      <th>23.0</th>\n",
       "      <th>23.5</th>\n",
       "      <th>24.0</th>\n",
       "      <th>24.5</th>\n",
       "    </tr>\n",
       "  </thead>\n",
       "  <tbody>\n",
       "    <tr>\n",
       "      <th>8</th>\n",
       "      <td>NaN</td>\n",
       "      <td>NaN</td>\n",
       "      <td>NaN</td>\n",
       "      <td>NaN</td>\n",
       "      <td>NaN</td>\n",
       "      <td>NaN</td>\n",
       "      <td>NaN</td>\n",
       "      <td>NaN</td>\n",
       "      <td>0.000112</td>\n",
       "      <td>0.001047</td>\n",
       "      <td>...</td>\n",
       "      <td>0.030037</td>\n",
       "      <td>0.030972</td>\n",
       "      <td>0.031908</td>\n",
       "      <td>0.032843</td>\n",
       "      <td>0.033778</td>\n",
       "      <td>0.034713</td>\n",
       "      <td>0.035648</td>\n",
       "      <td>0.036584</td>\n",
       "      <td>0.037519</td>\n",
       "      <td>0.038454</td>\n",
       "    </tr>\n",
       "    <tr>\n",
       "      <th>9</th>\n",
       "      <td>NaN</td>\n",
       "      <td>NaN</td>\n",
       "      <td>NaN</td>\n",
       "      <td>NaN</td>\n",
       "      <td>NaN</td>\n",
       "      <td>NaN</td>\n",
       "      <td>NaN</td>\n",
       "      <td>NaN</td>\n",
       "      <td>NaN</td>\n",
       "      <td>0.000112</td>\n",
       "      <td>...</td>\n",
       "      <td>0.025881</td>\n",
       "      <td>0.026712</td>\n",
       "      <td>0.027543</td>\n",
       "      <td>0.028375</td>\n",
       "      <td>0.029206</td>\n",
       "      <td>0.030037</td>\n",
       "      <td>0.030869</td>\n",
       "      <td>0.031700</td>\n",
       "      <td>0.032531</td>\n",
       "      <td>0.033362</td>\n",
       "    </tr>\n",
       "    <tr>\n",
       "      <th>10</th>\n",
       "      <td>NaN</td>\n",
       "      <td>NaN</td>\n",
       "      <td>NaN</td>\n",
       "      <td>NaN</td>\n",
       "      <td>NaN</td>\n",
       "      <td>NaN</td>\n",
       "      <td>NaN</td>\n",
       "      <td>NaN</td>\n",
       "      <td>NaN</td>\n",
       "      <td>NaN</td>\n",
       "      <td>...</td>\n",
       "      <td>0.022556</td>\n",
       "      <td>0.023304</td>\n",
       "      <td>0.024052</td>\n",
       "      <td>0.024800</td>\n",
       "      <td>0.025548</td>\n",
       "      <td>0.026297</td>\n",
       "      <td>0.027045</td>\n",
       "      <td>0.027793</td>\n",
       "      <td>0.028541</td>\n",
       "      <td>0.029289</td>\n",
       "    </tr>\n",
       "    <tr>\n",
       "      <th>11</th>\n",
       "      <td>NaN</td>\n",
       "      <td>NaN</td>\n",
       "      <td>NaN</td>\n",
       "      <td>NaN</td>\n",
       "      <td>NaN</td>\n",
       "      <td>NaN</td>\n",
       "      <td>NaN</td>\n",
       "      <td>NaN</td>\n",
       "      <td>NaN</td>\n",
       "      <td>NaN</td>\n",
       "      <td>...</td>\n",
       "      <td>0.019835</td>\n",
       "      <td>0.020516</td>\n",
       "      <td>0.021196</td>\n",
       "      <td>0.021876</td>\n",
       "      <td>0.022556</td>\n",
       "      <td>0.023236</td>\n",
       "      <td>0.023916</td>\n",
       "      <td>0.024596</td>\n",
       "      <td>0.025276</td>\n",
       "      <td>0.025957</td>\n",
       "    </tr>\n",
       "    <tr>\n",
       "      <th>12</th>\n",
       "      <td>NaN</td>\n",
       "      <td>NaN</td>\n",
       "      <td>NaN</td>\n",
       "      <td>NaN</td>\n",
       "      <td>NaN</td>\n",
       "      <td>NaN</td>\n",
       "      <td>NaN</td>\n",
       "      <td>NaN</td>\n",
       "      <td>NaN</td>\n",
       "      <td>NaN</td>\n",
       "      <td>...</td>\n",
       "      <td>0.017568</td>\n",
       "      <td>0.018192</td>\n",
       "      <td>0.018815</td>\n",
       "      <td>0.019439</td>\n",
       "      <td>0.020062</td>\n",
       "      <td>0.020686</td>\n",
       "      <td>0.021309</td>\n",
       "      <td>0.021932</td>\n",
       "      <td>0.022556</td>\n",
       "      <td>0.023179</td>\n",
       "    </tr>\n",
       "  </tbody>\n",
       "</table>\n",
       "<p>5 rows × 50 columns</p>\n",
       "</div>"
      ],
      "text/plain": [
       "    0.0   0.5   1.0   1.5   2.0   2.5   3.0   3.5       4.0       4.5   ...  \\\n",
       "8    NaN   NaN   NaN   NaN   NaN   NaN   NaN   NaN  0.000112  0.001047  ...   \n",
       "9    NaN   NaN   NaN   NaN   NaN   NaN   NaN   NaN       NaN  0.000112  ...   \n",
       "10   NaN   NaN   NaN   NaN   NaN   NaN   NaN   NaN       NaN       NaN  ...   \n",
       "11   NaN   NaN   NaN   NaN   NaN   NaN   NaN   NaN       NaN       NaN  ...   \n",
       "12   NaN   NaN   NaN   NaN   NaN   NaN   NaN   NaN       NaN       NaN  ...   \n",
       "\n",
       "        20.0      20.5      21.0      21.5      22.0      22.5      23.0  \\\n",
       "8   0.030037  0.030972  0.031908  0.032843  0.033778  0.034713  0.035648   \n",
       "9   0.025881  0.026712  0.027543  0.028375  0.029206  0.030037  0.030869   \n",
       "10  0.022556  0.023304  0.024052  0.024800  0.025548  0.026297  0.027045   \n",
       "11  0.019835  0.020516  0.021196  0.021876  0.022556  0.023236  0.023916   \n",
       "12  0.017568  0.018192  0.018815  0.019439  0.020062  0.020686  0.021309   \n",
       "\n",
       "        23.5      24.0      24.5  \n",
       "8   0.036584  0.037519  0.038454  \n",
       "9   0.031700  0.032531  0.033362  \n",
       "10  0.027793  0.028541  0.029289  \n",
       "11  0.024596  0.025276  0.025957  \n",
       "12  0.021932  0.022556  0.023179  \n",
       "\n",
       "[5 rows x 50 columns]"
      ]
     },
     "execution_count": 18,
     "metadata": {},
     "output_type": "execute_result"
    }
   ],
   "source": [
    "df_psquantum"
   ]
  },
  {
   "cell_type": "code",
   "execution_count": 19,
   "metadata": {},
   "outputs": [],
   "source": [
    "df_psquantum.to_csv(\"psquantum_sensibility_BOF.csv\",sep=\";\")\n",
    "df_atpsyn.to_csv(\"psquantum_sensibility_BOF_atpsyn.csv\",sep=\";\")\n",
    "df_fdxo.to_csv(\"psquantum_sensibility_BOF_fdxo.csv\",sep=\";\")\n",
    "df_ratio_atp_nadph.to_csv(\"psquantum_sensibility_BOF_ratio_atp_nadph.csv\",sep=\";\")"
   ]
  },
  {
   "cell_type": "code",
   "execution_count": 20,
   "metadata": {},
   "outputs": [],
   "source": [
    "import matplotlib as mpl"
   ]
  },
  {
   "cell_type": "code",
   "execution_count": 21,
   "metadata": {},
   "outputs": [],
   "source": [
    "cmaps = {}\n",
    "\n",
    "gradient = np.linspace(0, 1, 256)\n",
    "gradient = np.vstack((gradient, gradient))\n",
    "\n",
    "\n",
    "def plot_color_gradients(category, cmap_list):\n",
    "    # Create figure and adjust figure height to number of colormaps\n",
    "    nrows = len(cmap_list)\n",
    "    figh = 0.35 + 0.15 + (nrows + (nrows - 1) * 0.1) * 0.22\n",
    "    fig, axs = plt.subplots(nrows=nrows + 1, figsize=(6.4, figh))\n",
    "    fig.subplots_adjust(top=1 - 0.35 / figh, bottom=0.15 / figh,\n",
    "                        left=0.2, right=0.99)\n",
    "    axs[0].set_title(f'{category} colormaps', fontsize=14)\n",
    "\n",
    "    for ax, name in zip(axs, cmap_list):\n",
    "        ax.imshow(gradient, aspect='auto', cmap=mpl.colors[name])\n",
    "        ax.text(-0.01, 0.5, name, va='center', ha='right', fontsize=10,\n",
    "                transform=ax.transAxes)\n",
    "\n",
    "    # Turn off *all* ticks & spines, not just the ones with colormaps.\n",
    "    for ax in axs:\n",
    "        ax.set_axis_off()\n",
    "\n",
    "    # Save colormap list for later.\n",
    "    cmaps[category] = cmap_list"
   ]
  },
  {
   "cell_type": "code",
   "execution_count": 22,
   "metadata": {},
   "outputs": [],
   "source": [
    "def colorFader(c1,c2,mix=0): #fade (linear interpolate) from color c1 (at mix=0) to c2 (mix=1)\n",
    "    c1=np.array(mpl.colors.to_rgb(c1))\n",
    "    c2=np.array(mpl.colors.to_rgb(c2))\n",
    "    return mpl.colors.to_hex((1-mix)*c1 + mix*c2)"
   ]
  },
  {
   "cell_type": "code",
   "execution_count": 23,
   "metadata": {},
   "outputs": [],
   "source": [
    "dico_col = {8 : (189/255,189/255,255/255),\n",
    "9 : (137/255,137/255,255/255),\n",
    "10 : (67/255,67/255,255/255),\n",
    "11 : (0/255,0/255,180/255),\n",
    "12 : (0/255,0/255,102/255)}\n"
   ]
  },
  {
   "cell_type": "code",
   "execution_count": 24,
   "metadata": {},
   "outputs": [
    {
     "data": {
      "image/png": "[encoded data removed]",
      "text/plain": [
       "<Figure size 288x288 with 1 Axes>"
      ]
     },
     "metadata": {
      "needs_background": "light"
     },
     "output_type": "display_data"
    }
   ],
   "source": [
    "fig, ax = plt.subplots(figsize = (4,4))\n",
    "for idx in df_psquantum.index:\n",
    "    ax.plot(df_psquantum.columns,df_psquantum.loc[idx],label=idx,c=dico_col[idx])\n",
    "\n",
    "plt.legend()\n",
    "plt.xlabel(\"Photon uptake\")\n",
    "plt.ylabel(\"Growth rate\")\n",
    "plt.savefig(\"psquantum_sensibility_BOF_blue.pdf\",format=\"pdf\",dpi=1500)\n",
    "plt.savefig(\"psquantum_sensibility_BOF_blue.png\",format=\"png\",dpi=1500)\n",
    "plt.savefig(\"psquantum_sensibility_BOF_blue.svg\",format=\"svg\",dpi=1500)\n",
    "plt.show()"
   ]
  },
  {
   "cell_type": "code",
   "execution_count": 25,
   "metadata": {},
   "outputs": [
    {
     "data": {
      "image/png": "[encoded data removed]",
      "text/plain": [
       "<Figure size 288x288 with 1 Axes>"
      ]
     },
     "metadata": {
      "needs_background": "light"
     },
     "output_type": "display_data"
    }
   ],
   "source": [
    "fig, ax = plt.subplots(figsize = (4,4))\n",
    "for idx in df_psquantum.index:\n",
    "    ax.plot(df_atpsyn.columns,df_atpsyn.loc[idx],label=idx,c=dico_col[idx])\n",
    "\n",
    "plt.legend()\n",
    "plt.xlabel(\"Photon uptake\")\n",
    "plt.ylabel(\"ATPSYN flux\")\n",
    "plt.savefig(\"psquantum_sensibility_BOF_ATPSYN_blue.pdf\",format=\"pdf\",dpi=1500)\n",
    "plt.savefig(\"psquantum_sensibility_BOF_ATPSYN_blue.png\",format=\"png\",dpi=1500)\n",
    "plt.savefig(\"psquantum_sensibility_BOF_ATPSYN_blue.svg\",format=\"svg\",dpi=1500)\n",
    "\n",
    "plt.show()"
   ]
  },
  {
   "cell_type": "code",
   "execution_count": 26,
   "metadata": {},
   "outputs": [
    {
     "data": {
      "image/png": "[encoded data removed]",
      "text/plain": [
       "<Figure size 288x288 with 1 Axes>"
      ]
     },
     "metadata": {
      "needs_background": "light"
     },
     "output_type": "display_data"
    }
   ],
   "source": [
    "fig, ax = plt.subplots(figsize = (4,4))\n",
    "for idx in df_psquantum.index:\n",
    "    ax.plot(df_fdxo.columns,df_fdxo.loc[idx],label=idx,c=dico_col[idx])\n",
    "\n",
    "plt.legend()\n",
    "plt.xlabel(\"Photon uptake\")\n",
    "plt.ylabel(\"FDXO flux\")\n",
    "plt.savefig(\"psquantum_sensibility_BOF_FDXO_blue.pdf\",format=\"pdf\",dpi=1500)\n",
    "plt.savefig(\"psquantum_sensibility_BOF_FDXO_blue.png\",format=\"png\",dpi=1500)\n",
    "plt.savefig(\"psquantum_sensibility_BOF_FDXO_blue.svg\",format=\"svg\",dpi=1500)\n",
    "\n",
    "plt.show()"
   ]
  },
  {
   "cell_type": "code",
   "execution_count": 27,
   "metadata": {},
   "outputs": [
    {
     "data": {
      "image/png": "[encoded data removed]",
      "text/plain": [
       "<Figure size 288x288 with 1 Axes>"
      ]
     },
     "metadata": {
      "needs_background": "light"
     },
     "output_type": "display_data"
    }
   ],
   "source": [
    "fig, ax = plt.subplots(figsize = (4,4))\n",
    "for idx in df_psquantum.index:\n",
    "    ax.plot(df_ratio_atp_nadph.columns,df_ratio_atp_nadph.loc[idx],label=idx,c=dico_col[idx])\n",
    "\n",
    "plt.legend()\n",
    "plt.xlabel(\"Photon uptake\")\n",
    "plt.ylabel(\"ATP/NADPH ratio\")\n",
    "plt.ylim((1,2))\n",
    "plt.savefig(\"psquantum_sensibility_BOF_ratio_atp_nadph_blue.pdf\",format=\"pdf\",dpi=1500)\n",
    "plt.savefig(\"psquantum_sensibility_BOF_ratio_atp_nadph_blue.png\",format=\"png\",dpi=1500)\n",
    "plt.savefig(\"psquantum_sensibility_BOF_ratio_atp_nadph_blue.svg\",format=\"svg\",dpi=1500)\n",
    "\n",
    "plt.show()"
   ]
  },
  {
   "cell_type": "code",
   "execution_count": null,
   "metadata": {},
   "outputs": [],
   "source": []
  }
 ],
 "metadata": {
  "kernelspec": {
   "display_name": "Python [conda env:iMgadit884_python36]",
   "language": "python",
   "name": "conda-env-iMgadit884_python36-py"
  },
  "language_info": {
   "codemirror_mode": {
    "name": "ipython",
    "version": 3
   },
   "file_extension": ".py",
   "mimetype": "text/x-python",
   "name": "python",
   "nbconvert_exporter": "python",
   "pygments_lexer": "ipython3",
   "version": "3.6.13"
  }
 },
 "nbformat": 4,
 "nbformat_minor": 2
}
