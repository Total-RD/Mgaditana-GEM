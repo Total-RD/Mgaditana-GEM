{
 "cells": [
  {
   "cell_type": "markdown",
   "metadata": {},
   "source": [
    "# Model validation: Test growth in different conditions"
   ]
  },
  {
   "cell_type": "markdown",
   "metadata": {},
   "source": [
    "### Directories"
   ]
  },
  {
   "cell_type": "code",
   "execution_count": 1,
   "metadata": {},
   "outputs": [],
   "source": [
    "GEM_folder = \"..\\\\..\\\\..\" # to update if necessary"
   ]
  },
  {
   "cell_type": "code",
   "execution_count": 2,
   "metadata": {},
   "outputs": [],
   "source": [
    "modelfile = \"model\\\\iMgadit23.json\""
   ]
  },
  {
   "cell_type": "markdown",
   "metadata": {},
   "source": [
    "### Imports"
   ]
  },
  {
   "cell_type": "code",
   "execution_count": 3,
   "metadata": {},
   "outputs": [],
   "source": [
    "import cobra\n",
    "from cobra.flux_analysis.parsimonious import pfba\n",
    "import json\n",
    "import pandas as pd\n",
    "import numpy as np\n",
    "\n",
    "from os.path import join as __join"
   ]
  },
  {
   "cell_type": "code",
   "execution_count": 4,
   "metadata": {},
   "outputs": [
    {
     "name": "stdout",
     "output_type": "stream",
     "text": [
      "\n",
      "System Information\n",
      "==================\n",
      "OS         Windows\n",
      "OS-release      10\n",
      "Python      3.6.13\n",
      "\n",
      "Package Versions\n",
      "================\n",
      "appdirs                                      1.4.4\n",
      "black ; extra == 'development'       not installed\n",
      "bumpversion ; extra == 'development' not installed\n",
      "cobra                                       0.21.0\n",
      "depinfo                                      1.7.0\n",
      "diskcache                                    5.6.1\n",
      "future                                      0.18.3\n",
      "httpx                                       0.22.0\n",
      "importlib-resources                          5.4.0\n",
      "isort ; extra == 'development'       not installed\n",
      "numpy                                       1.19.5\n",
      "optlang                                      1.4.2\n",
      "pandas                                       1.1.5\n",
      "pip                                         21.2.2\n",
      "pydantic                                     1.9.2\n",
      "python-libsbml                              5.19.0\n",
      "rich                                         6.2.0\n",
      "ruamel.yaml                                0.17.32\n",
      "scipy                                        1.5.4\n",
      "setuptools                                  58.0.4\n",
      "six                                         1.16.0\n",
      "swiglpk                                      5.0.8\n",
      "tox ; extra == 'development'         not installed\n",
      "wheel                                       0.37.1\n"
     ]
    }
   ],
   "source": [
    "cobra.show_versions()"
   ]
  },
  {
   "cell_type": "markdown",
   "metadata": {},
   "source": [
    "### Model"
   ]
  },
  {
   "cell_type": "code",
   "execution_count": 5,
   "metadata": {
    "scrolled": true
   },
   "outputs": [],
   "source": [
    "iMgadit = cobra.io.load_json_model(__join(GEM_folder, modelfile))"
   ]
  },
  {
   "cell_type": "markdown",
   "metadata": {},
   "source": [
    "### Photons"
   ]
  },
  {
   "cell_type": "markdown",
   "metadata": {},
   "source": [
    "Determine number of photons required for max growth rate (for now 0.028)"
   ]
  },
  {
   "cell_type": "code",
   "execution_count": 6,
   "metadata": {},
   "outputs": [],
   "source": [
    "iMgadit.reactions.EX_photon_abs_.lower_bound = -1000"
   ]
  },
  {
   "cell_type": "code",
   "execution_count": 7,
   "metadata": {},
   "outputs": [
    {
     "data": {
      "text/html": [
       "\n",
       "        <table>\n",
       "            <tr>\n",
       "                <td><strong>Reaction identifier</strong></td><td>NGAM_c</td>\n",
       "            </tr><tr>\n",
       "                <td><strong>Name</strong></td><td>Non Growth Associated ATP Maintenance (NGAM)</td>\n",
       "            </tr><tr>\n",
       "                <td><strong>Memory address</strong></td>\n",
       "                <td>0x02028e106438</td>\n",
       "            </tr><tr>\n",
       "                <td><strong>Stoichiometry</strong></td>\n",
       "                <td>\n",
       "                    <p style='text-align:right'>atp_c + h2o_c --> adp_c + h_c + pi_c</p>\n",
       "                    <p style='text-align:right'>ATP + Water --> ADP + H+ + Orthophosphate</p>\n",
       "                </td>\n",
       "            </tr><tr>\n",
       "                <td><strong>GPR</strong></td><td>NO_GENE</td>\n",
       "            </tr><tr>\n",
       "                <td><strong>Lower bound</strong></td><td>2.2</td>\n",
       "            </tr><tr>\n",
       "                <td><strong>Upper bound</strong></td><td>100000.0</td>\n",
       "            </tr>\n",
       "        </table>\n",
       "        "
      ],
      "text/plain": [
       "<Reaction NGAM_c at 0x2028e106438>"
      ]
     },
     "execution_count": 7,
     "metadata": {},
     "output_type": "execute_result"
    }
   ],
   "source": [
    "iMgadit.reactions.NGAM_c"
   ]
  },
  {
   "cell_type": "code",
   "execution_count": 8,
   "metadata": {},
   "outputs": [],
   "source": [
    "max_growth_rate = 0.028"
   ]
  },
  {
   "cell_type": "code",
   "execution_count": 9,
   "metadata": {},
   "outputs": [],
   "source": [
    "iMgadit.reactions.BIOMASS_biomass_WT526_c.lower_bound = max_growth_rate"
   ]
  },
  {
   "cell_type": "code",
   "execution_count": 10,
   "metadata": {},
   "outputs": [
    {
     "name": "stderr",
     "output_type": "stream",
     "text": [
      "C:\\Local\\Programmes\\Anaconda3\\envs\\iMgadit884_python36\\lib\\site-packages\\cobra\\core\\metabolite.py:105: UserWarning: 42.44882023256878 is not an integer (in formula C42.44882023256878H76.4292448299964O20.879111330619708N4.814750300170175P0.20036104118307208S0.14620606060000002Mg0.030432563599999997)\n",
      "  % (count, self.formula)\n",
      "C:\\Local\\Programmes\\Anaconda3\\envs\\iMgadit884_python36\\lib\\site-packages\\cobra\\core\\metabolite.py:105: UserWarning: 76.4292448299964 is not an integer (in formula C42.44882023256878H76.4292448299964O20.879111330619708N4.814750300170175P0.20036104118307208S0.14620606060000002Mg0.030432563599999997)\n",
      "  % (count, self.formula)\n",
      "C:\\Local\\Programmes\\Anaconda3\\envs\\iMgadit884_python36\\lib\\site-packages\\cobra\\core\\metabolite.py:105: UserWarning: 20.879111330619708 is not an integer (in formula C42.44882023256878H76.4292448299964O20.879111330619708N4.814750300170175P0.20036104118307208S0.14620606060000002Mg0.030432563599999997)\n",
      "  % (count, self.formula)\n",
      "C:\\Local\\Programmes\\Anaconda3\\envs\\iMgadit884_python36\\lib\\site-packages\\cobra\\core\\metabolite.py:105: UserWarning: 4.814750300170175 is not an integer (in formula C42.44882023256878H76.4292448299964O20.879111330619708N4.814750300170175P0.20036104118307208S0.14620606060000002Mg0.030432563599999997)\n",
      "  % (count, self.formula)\n",
      "C:\\Local\\Programmes\\Anaconda3\\envs\\iMgadit884_python36\\lib\\site-packages\\cobra\\core\\metabolite.py:105: UserWarning: 0.20036104118307208 is not an integer (in formula C42.44882023256878H76.4292448299964O20.879111330619708N4.814750300170175P0.20036104118307208S0.14620606060000002Mg0.030432563599999997)\n",
      "  % (count, self.formula)\n",
      "C:\\Local\\Programmes\\Anaconda3\\envs\\iMgadit884_python36\\lib\\site-packages\\cobra\\core\\metabolite.py:105: UserWarning: 0.14620606060000002 is not an integer (in formula C42.44882023256878H76.4292448299964O20.879111330619708N4.814750300170175P0.20036104118307208S0.14620606060000002Mg0.030432563599999997)\n",
      "  % (count, self.formula)\n",
      "C:\\Local\\Programmes\\Anaconda3\\envs\\iMgadit884_python36\\lib\\site-packages\\cobra\\core\\metabolite.py:105: UserWarning: 0.030432563599999997 is not an integer (in formula C42.44882023256878H76.4292448299964O20.879111330619708N4.814750300170175P0.20036104118307208S0.14620606060000002Mg0.030432563599999997)\n",
      "  % (count, self.formula)\n"
     ]
    },
    {
     "data": {
      "text/html": [
       "<h3>Objective</h3><p>1.0 EX_photon_abs_ = -23.638429618155897</p><h4>Uptake</h4><table border=\"1\" class=\"dataframe\">\n",
       "  <thead>\n",
       "    <tr style=\"text-align: right;\">\n",
       "      <th>Metabolite</th>\n",
       "      <th>Reaction</th>\n",
       "      <th>Flux</th>\n",
       "      <th>C-Number</th>\n",
       "      <th>C-Flux</th>\n",
       "    </tr>\n",
       "  </thead>\n",
       "  <tbody>\n",
       "    <tr>\n",
       "      <td>co2_e</td>\n",
       "      <td>EX_co2_</td>\n",
       "      <td>1.192</td>\n",
       "      <td>1</td>\n",
       "      <td>99.57%</td>\n",
       "    </tr>\n",
       "    <tr>\n",
       "      <td>fuc__L_e</td>\n",
       "      <td>EX_fuc__L_</td>\n",
       "      <td>0.000534</td>\n",
       "      <td>6</td>\n",
       "      <td>0.27%</td>\n",
       "    </tr>\n",
       "    <tr>\n",
       "      <td>h2o_e</td>\n",
       "      <td>EX_h2o_</td>\n",
       "      <td>0.997</td>\n",
       "      <td>0</td>\n",
       "      <td>0.00%</td>\n",
       "    </tr>\n",
       "    <tr>\n",
       "      <td>h_e</td>\n",
       "      <td>EX_h_</td>\n",
       "      <td>0.1418</td>\n",
       "      <td>0</td>\n",
       "      <td>0.00%</td>\n",
       "    </tr>\n",
       "    <tr>\n",
       "      <td>man_e</td>\n",
       "      <td>EX_man_</td>\n",
       "      <td>0.0003244</td>\n",
       "      <td>6</td>\n",
       "      <td>0.16%</td>\n",
       "    </tr>\n",
       "    <tr>\n",
       "      <td>mg2_e</td>\n",
       "      <td>EX_mg2_</td>\n",
       "      <td>0.0008521</td>\n",
       "      <td>0</td>\n",
       "      <td>0.00%</td>\n",
       "    </tr>\n",
       "    <tr>\n",
       "      <td>no3_e</td>\n",
       "      <td>EX_no3_</td>\n",
       "      <td>0.1387</td>\n",
       "      <td>0</td>\n",
       "      <td>0.00%</td>\n",
       "    </tr>\n",
       "    <tr>\n",
       "      <td>photon_abs_e</td>\n",
       "      <td>EX_photon_abs_</td>\n",
       "      <td>23.64</td>\n",
       "      <td>0</td>\n",
       "      <td>0.00%</td>\n",
       "    </tr>\n",
       "    <tr>\n",
       "      <td>pi_e</td>\n",
       "      <td>EX_pi_</td>\n",
       "      <td>0.00561</td>\n",
       "      <td>0</td>\n",
       "      <td>0.00%</td>\n",
       "    </tr>\n",
       "    <tr>\n",
       "      <td>so4_e</td>\n",
       "      <td>EX_so4_</td>\n",
       "      <td>0.004869</td>\n",
       "      <td>0</td>\n",
       "      <td>0.00%</td>\n",
       "    </tr>\n",
       "  </tbody>\n",
       "</table><h4>Secretion</h4><table border=\"1\" class=\"dataframe\">\n",
       "  <thead>\n",
       "    <tr style=\"text-align: right;\">\n",
       "      <th>Metabolite</th>\n",
       "      <th>Reaction</th>\n",
       "      <th>Flux</th>\n",
       "      <th>C-Number</th>\n",
       "      <th>C-Flux</th>\n",
       "    </tr>\n",
       "  </thead>\n",
       "  <tbody>\n",
       "    <tr>\n",
       "      <td>BIOMASS_biomass_WT526_c</td>\n",
       "      <td>DM_BIOMASS_biomass_WT526_</td>\n",
       "      <td>-0.028</td>\n",
       "      <td>42.44882</td>\n",
       "      <td>99.29%</td>\n",
       "    </tr>\n",
       "    <tr>\n",
       "      <td>5mta_e</td>\n",
       "      <td>EX_5mta_</td>\n",
       "      <td>-0.0007753</td>\n",
       "      <td>11.00000</td>\n",
       "      <td>0.71%</td>\n",
       "    </tr>\n",
       "    <tr>\n",
       "      <td>o2_e</td>\n",
       "      <td>EX_o2_</td>\n",
       "      <td>-1.628</td>\n",
       "      <td>0.00000</td>\n",
       "      <td>0.00%</td>\n",
       "    </tr>\n",
       "  </tbody>\n",
       "</table>"
      ],
      "text/plain": [
       "<cobra.summary.model_summary.ModelSummary at 0x2028ed60518>"
      ]
     },
     "execution_count": 10,
     "metadata": {},
     "output_type": "execute_result"
    }
   ],
   "source": [
    "iMgadit.objective = \"EX_photon_abs_\" \n",
    "solution = pfba(iMgadit)\n",
    "iMgadit.summary()"
   ]
  },
  {
   "cell_type": "code",
   "execution_count": 11,
   "metadata": {},
   "outputs": [],
   "source": [
    "photon_uptake = round(solution[\"EX_photon_abs_\"],2)"
   ]
  },
  {
   "cell_type": "code",
   "execution_count": 12,
   "metadata": {},
   "outputs": [
    {
     "data": {
      "text/plain": [
       "-23.64"
      ]
     },
     "execution_count": 12,
     "metadata": {},
     "output_type": "execute_result"
    }
   ],
   "source": [
    "photon_uptake"
   ]
  }
 ],
 "metadata": {
  "kernelspec": {
   "display_name": "Python [conda env:iMgadit884_python36]",
   "language": "python",
   "name": "conda-env-iMgadit884_python36-py"
  },
  "language_info": {
   "codemirror_mode": {
    "name": "ipython",
    "version": 3
   },
   "file_extension": ".py",
   "mimetype": "text/x-python",
   "name": "python",
   "nbconvert_exporter": "python",
   "pygments_lexer": "ipython3",
   "version": "3.6.13"
  }
 },
 "nbformat": 4,
 "nbformat_minor": 2
}
