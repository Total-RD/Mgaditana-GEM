{
 "cells": [
  {
   "cell_type": "markdown",
   "metadata": {},
   "source": [
    "# pFBA & MOMA: Compare flux distribution WT vs ACSBG#31 mutant"
   ]
  },
  {
   "cell_type": "markdown",
   "metadata": {},
   "source": [
    "Strategy: \n",
    "- pFBA: each BOF is constrainded to experimental growth value and photon uptake is minimized.\n",
    "\n",
    "- MOMA: pFBA WT is used as reference."
   ]
  },
  {
   "cell_type": "markdown",
   "metadata": {},
   "source": [
    "### Directories"
   ]
  },
  {
   "cell_type": "code",
   "execution_count": null,
   "metadata": {},
   "outputs": [],
   "source": [
    "GEM_folder = \"..\\\\..\\\\..\\\\..\\\\\""
   ]
  },
  {
   "cell_type": "code",
   "execution_count": null,
   "metadata": {},
   "outputs": [],
   "source": [
    "modelfile = \"model\\\\iMgadit23.json\""
   ]
  },
  {
   "cell_type": "markdown",
   "metadata": {},
   "source": [
    "### Imports"
   ]
  },
  {
   "cell_type": "code",
   "execution_count": null,
   "metadata": {},
   "outputs": [],
   "source": [
    "import json\n",
    "from math import log\n",
    "import numpy as np\n",
    "from os.path import join as __join\n",
    "import pandas as pd\n",
    "import time\n",
    "\n",
    "import cobra\n",
    "from cobra import Model, Reaction, Metabolite\n",
    "from cobra.flux_analysis.parsimonious import pfba as pfba_cobra"
   ]
  },
  {
   "cell_type": "markdown",
   "metadata": {},
   "source": [
    "### Model"
   ]
  },
  {
   "cell_type": "code",
   "execution_count": null,
   "metadata": {},
   "outputs": [],
   "source": [
    "def load_model_add_constraints(cobra_model_file):\n",
    "    cobra_model = cobra.io.load_json_model(cobra_model_file)\n",
    "    cobra_model.reactions.EX_photon_abs_.lower_bound = -331\n",
    "    return(cobra_model)"
   ]
  },
  {
   "cell_type": "markdown",
   "metadata": {},
   "source": [
    "# Simualtions"
   ]
  },
  {
   "cell_type": "markdown",
   "metadata": {},
   "source": [
    "### Conditions and experimental growth rates"
   ]
  },
  {
   "cell_type": "code",
   "execution_count": null,
   "metadata": {},
   "outputs": [],
   "source": [
    "cond_1 = \"BIOMASS_biomass_WT526_c\""
   ]
  },
  {
   "cell_type": "code",
   "execution_count": null,
   "metadata": {},
   "outputs": [],
   "source": [
    "cond_2 = \"BIOMASS_biomass_MgACSBG31_c\""
   ]
  },
  {
   "cell_type": "code",
   "execution_count": null,
   "metadata": {},
   "outputs": [],
   "source": [
    "dict_experimental_growth = {\"BIOMASS_biomass_WT526_c\": 3.04E-02 ,\n",
    "                            \"BIOMASS_biomass_MgACSBG31_c\": 1.50E-02}"
   ]
  },
  {
   "cell_type": "markdown",
   "metadata": {},
   "source": [
    "# 1) pFBA : Biomass_WT = experimental growth rate, minimize photon uptake"
   ]
  },
  {
   "cell_type": "markdown",
   "metadata": {},
   "source": [
    "##### run pFBA"
   ]
  },
  {
   "cell_type": "code",
   "execution_count": null,
   "metadata": {},
   "outputs": [],
   "source": [
    "iMgadit23 = load_model_add_constraints(__join(GEM_folder,modelfile))\n",
    "iMgadit23.objective = \"EX_photon_abs_\"\n",
    "for rxn in iMgadit23.reactions:\n",
    "    if rxn.id[0:16] == \"BIOMASS_biomass_\":\n",
    "        if rxn.id == cond_1:\n",
    "            rxn.lower_bound = dict_experimental_growth[rxn.id]\n",
    "            rxn.upper_bound = dict_experimental_growth[rxn.id]\n",
    "            print(rxn.id, \"bounds = \",rxn.lower_bound,rxn.upper_bound)\n",
    "        else:\n",
    "            rxn.lower_bound = 0\n",
    "            rxn.upper_bound = 0\n",
    "            print(rxn.id, \"bounds = \",rxn.lower_bound,rxn.upper_bound)\n",
    "start_time = time.time()\n",
    "sol_pfba_1 = pfba_cobra(iMgadit23)\n",
    "end_time = time.time()\n",
    "df_pfba_1 = sol_pfba_1.to_frame()\n",
    "df_pfba_1.columns = [\"Flux pFBA WT\",\"reduced_costs pFBA WT\"]\n",
    "\n",
    "print(\"--- %s seconds ---\" % (end_time - start_time))"
   ]
  },
  {
   "cell_type": "code",
   "execution_count": null,
   "metadata": {},
   "outputs": [],
   "source": [
    "sol_pfba_1"
   ]
  },
  {
   "cell_type": "code",
   "execution_count": null,
   "metadata": {},
   "outputs": [],
   "source": [
    "sol_pfba_1[cond_1]"
   ]
  },
  {
   "cell_type": "code",
   "execution_count": null,
   "metadata": {},
   "outputs": [],
   "source": [
    "sol_pfba_1[\"EX_photon_abs_\"]"
   ]
  },
  {
   "cell_type": "markdown",
   "metadata": {},
   "source": [
    "##### Save"
   ]
  },
  {
   "cell_type": "code",
   "execution_count": null,
   "metadata": {},
   "outputs": [],
   "source": [
    "# Save fluxes (for Escher)\n",
    "file = \"Res_fluxes_pFBA_WT.json\"\n",
    "with open(file, \"w\") as f:\n",
    "    json.dump(sol_pfba_1.fluxes.to_dict(), f)\n",
    "f.close()"
   ]
  },
  {
   "cell_type": "code",
   "execution_count": null,
   "metadata": {},
   "outputs": [],
   "source": [
    "# csv\n",
    "df_pfba_1.to_csv(\"Res_pFBA_WT.csv\",sep=\";\")"
   ]
  },
  {
   "cell_type": "code",
   "execution_count": null,
   "metadata": {},
   "outputs": [],
   "source": [
    "del iMgadit23"
   ]
  },
  {
   "cell_type": "markdown",
   "metadata": {},
   "source": [
    "# 2) MOMA:Biomass_acsbg = experimental growth rate, minimize diff with pfba_sol1 results"
   ]
  },
  {
   "cell_type": "code",
   "execution_count": null,
   "metadata": {},
   "outputs": [],
   "source": [
    "iMgadit23 = load_model_add_constraints(__join(GEM_folder,modelfile))"
   ]
  },
  {
   "cell_type": "markdown",
   "metadata": {},
   "source": [
    "### Change EX_ bounds"
   ]
  },
  {
   "cell_type": "code",
   "execution_count": null,
   "metadata": {},
   "outputs": [],
   "source": [
    "ex_to_block = [\"EX_arg__L_\",\n",
    "\"EX_lys__L_\",\n",
    "\"EX_gal_\",\n",
    "\"EX_ade_\",\n",
    "\"EX_gln__L_\",\n",
    "\"EX_for_\",\n",
    "\"EX_glc__D_\",\n",
    "\"EX_xylt_\",\n",
    "\"EX_trp__L_\",\n",
    "\"EX_phe__L_\",\n",
    "\"EX_glyc3p_\",\n",
    "\"EX_fum_\",\n",
    "\"EX_val__L_\",\n",
    "\"EX_his__L_\",\n",
    "\"EX_inost_\",\n",
    "\"EX_ac_\",\n",
    "\"EX_chol_\",\n",
    "\"EX_gua_\",\n",
    "\"EX_glu__L_\",\n",
    "\"EX_leu__L_\",\n",
    "\"EX_sbt__D_\",\n",
    "\"EX_tyr__L_\",\n",
    "\"EX_pro__L_\",\n",
    "\"EX_fru_\",\n",
    "\"EX_glyc_\",]"
   ]
  },
  {
   "cell_type": "code",
   "execution_count": null,
   "metadata": {},
   "outputs": [],
   "source": [
    "test = []\n",
    "for rxn in iMgadit23.reactions:\n",
    "    if rxn.id[0:2] == \"EX\":\n",
    "        if df_pfba_1.loc[rxn.id,\"Flux pFBA WT\"] == 0:\n",
    "            print(rxn.id)\n",
    "            test.append(rxn.id)"
   ]
  },
  {
   "cell_type": "code",
   "execution_count": null,
   "metadata": {},
   "outputs": [],
   "source": [
    "set(test) - set(ex_to_block)"
   ]
  },
  {
   "cell_type": "code",
   "execution_count": null,
   "metadata": {},
   "outputs": [],
   "source": [
    "set(ex_to_block) - set(test)"
   ]
  },
  {
   "cell_type": "code",
   "execution_count": null,
   "metadata": {},
   "outputs": [],
   "source": [
    "### set EX_bounds to 0\n",
    "for rxn_id in ex_to_block:\n",
    "    rxn = iMgadit23.reactions.get_by_id(rxn_id)\n",
    "    rxn.lower_bound = 0\n",
    "    rxn.upper_bound = 0"
   ]
  },
  {
   "cell_type": "code",
   "execution_count": null,
   "metadata": {},
   "outputs": [],
   "source": [
    "iMgadit23.objective = \"EX_photon_abs_\"\n",
    "for rxn in iMgadit23.reactions:\n",
    "    if rxn.id[0:16] == \"BIOMASS_biomass_\":\n",
    "        if rxn.id == cond_2:\n",
    "            rxn.lower_bound = dict_experimental_growth[rxn.id]\n",
    "            rxn.upper_bound = dict_experimental_growth[rxn.id]\n",
    "            print(rxn.id, \"bounds = \",rxn.lower_bound,rxn.upper_bound)\n",
    "        else:\n",
    "            rxn.lower_bound = 0\n",
    "            rxn.upper_bound = 0\n",
    "            print(rxn.id, \"bounds = \",rxn.lower_bound,rxn.upper_bound)\n",
    "\n",
    "            \n",
    "start_time2 = time.time()\n",
    "res_moma = cobra.flux_analysis.moma(iMgadit23,solution = sol_pfba_1,linear=True)\n",
    "end_time2 = time.time()\n",
    "\n",
    "print(\"--- %s seconds ---\" % ((end_time - start_time)+(end_time2 - start_time2)))"
   ]
  },
  {
   "cell_type": "code",
   "execution_count": null,
   "metadata": {},
   "outputs": [],
   "source": [
    "df_moma_cond_2 = res_moma.to_frame()"
   ]
  },
  {
   "cell_type": "code",
   "execution_count": null,
   "metadata": {},
   "outputs": [],
   "source": [
    "res_moma[\"EX_photon_abs_\"]"
   ]
  },
  {
   "cell_type": "code",
   "execution_count": null,
   "metadata": {},
   "outputs": [],
   "source": [
    "res_moma[cond_2]"
   ]
  },
  {
   "cell_type": "code",
   "execution_count": null,
   "metadata": {},
   "outputs": [],
   "source": [
    "df_moma_cond_2.columns = [\"Flux MOMA acsbg31\",\"reduced_costs MOMA acsbg31\"]"
   ]
  },
  {
   "cell_type": "markdown",
   "metadata": {},
   "source": [
    "#### Save"
   ]
  },
  {
   "cell_type": "code",
   "execution_count": null,
   "metadata": {},
   "outputs": [],
   "source": [
    "# Save fluxes (for Escher)\n",
    "file = \"Res_fluxes_MOMA_acsbg31.json\"\n",
    "with open(file, \"w\") as f:\n",
    "    json.dump(res_moma.fluxes.to_dict(), f)\n",
    "f.close()"
   ]
  },
  {
   "cell_type": "code",
   "execution_count": null,
   "metadata": {},
   "outputs": [],
   "source": [
    "# csv\n",
    "df_moma_cond_2.to_csv(\"Res_MOMA_acsbg31.csv\",sep=\";\")"
   ]
  },
  {
   "cell_type": "code",
   "execution_count": null,
   "metadata": {},
   "outputs": [],
   "source": [
    "del iMgadit23"
   ]
  },
  {
   "cell_type": "markdown",
   "metadata": {},
   "source": [
    "# 3) pFBA : Biomass_acsbg = experimental growth rate, minimize photon uptake"
   ]
  },
  {
   "cell_type": "markdown",
   "metadata": {},
   "source": [
    "##### run pFBA"
   ]
  },
  {
   "cell_type": "code",
   "execution_count": null,
   "metadata": {},
   "outputs": [],
   "source": [
    "iMgadit23 = load_model_add_constraints(__join(GEM_folder,modelfile))\n",
    "iMgadit23.objective = \"EX_photon_abs_\"\n",
    "for rxn in iMgadit23.reactions:\n",
    "    if rxn.id[0:16] == \"BIOMASS_biomass_\":\n",
    "        if rxn.id == cond_2:\n",
    "            rxn.lower_bound = dict_experimental_growth[rxn.id]\n",
    "            rxn.upper_bound = dict_experimental_growth[rxn.id]\n",
    "            print(rxn.id, \"bounds = \",rxn.lower_bound,rxn.upper_bound)\n",
    "        else:\n",
    "            rxn.lower_bound = 0\n",
    "            rxn.upper_bound = 0\n",
    "            print(rxn.id, \"bounds = \",rxn.lower_bound,rxn.upper_bound)\n",
    "            \n",
    "start_time3 = time.time()\n",
    "sol_pfba_2 = pfba_cobra(iMgadit23)\n",
    "end_time3 = time.time()\n",
    "df_pfba_2 = sol_pfba_2.to_frame()\n",
    "df_pfba_2.columns = [\"Flux pFBA acsbg31\",\"reduced_costs pFBA acsbg31\"]\n",
    "\n",
    "print(\"--- %s seconds ---\" % (end_time3 - start_time3))"
   ]
  },
  {
   "cell_type": "code",
   "execution_count": null,
   "metadata": {},
   "outputs": [],
   "source": [
    "sol_pfba_2"
   ]
  },
  {
   "cell_type": "code",
   "execution_count": null,
   "metadata": {},
   "outputs": [],
   "source": [
    "sol_pfba_2[cond_2]"
   ]
  },
  {
   "cell_type": "code",
   "execution_count": null,
   "metadata": {},
   "outputs": [],
   "source": [
    "sol_pfba_2[\"EX_photon_abs_\"]"
   ]
  },
  {
   "cell_type": "markdown",
   "metadata": {},
   "source": [
    "#### Save"
   ]
  },
  {
   "cell_type": "code",
   "execution_count": null,
   "metadata": {},
   "outputs": [],
   "source": [
    "# Save fluxes (for Escher)\n",
    "file = \"Res_fluxes_pFBA_acsbg31.json\"\n",
    "with open(file, \"w\") as f:\n",
    "    json.dump(sol_pfba_2.fluxes.to_dict(), f)\n",
    "f.close()"
   ]
  },
  {
   "cell_type": "code",
   "execution_count": null,
   "metadata": {},
   "outputs": [],
   "source": [
    "# csv\n",
    "df_pfba_2.to_csv(\"Res_pFBA_acsbg31.csv\",sep=\";\")"
   ]
  }
 ],
 "metadata": {
  "kernelspec": {
   "display_name": "Python [conda env:iMgadit884_python36]",
   "language": "python",
   "name": "conda-env-iMgadit884_python36-py"
  },
  "language_info": {
   "codemirror_mode": {
    "name": "ipython",
    "version": 3
   },
   "file_extension": ".py",
   "mimetype": "text/x-python",
   "name": "python",
   "nbconvert_exporter": "python",
   "pygments_lexer": "ipython3",
   "version": "3.6.13"
  }
 },
 "nbformat": 4,
 "nbformat_minor": 2
}
