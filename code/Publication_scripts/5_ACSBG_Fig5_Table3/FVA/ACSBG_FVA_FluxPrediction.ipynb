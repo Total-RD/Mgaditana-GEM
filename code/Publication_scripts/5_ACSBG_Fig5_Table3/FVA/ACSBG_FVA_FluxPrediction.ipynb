{
 "cells": [
  {
   "cell_type": "markdown",
   "metadata": {},
   "source": [
    "# FVA: Compare flux distribution ACSBG"
   ]
  },
  {
   "cell_type": "markdown",
   "metadata": {},
   "source": [
    "Strategy: fixe growth rate to its experimental value and minimize photon uptake"
   ]
  },
  {
   "cell_type": "markdown",
   "metadata": {},
   "source": [
    "### Directories"
   ]
  },
  {
   "cell_type": "code",
   "execution_count": null,
   "metadata": {},
   "outputs": [],
   "source": [
    "GEM_folder = \"..\\\\..\\\\..\\\\..\""
   ]
  },
  {
   "cell_type": "code",
   "execution_count": null,
   "metadata": {},
   "outputs": [],
   "source": [
    "modelfile = \"model\\\\iMgadit23.json\""
   ]
  },
  {
   "cell_type": "markdown",
   "metadata": {},
   "source": [
    "### Imports"
   ]
  },
  {
   "cell_type": "code",
   "execution_count": null,
   "metadata": {},
   "outputs": [],
   "source": [
    "import json\n",
    "from math import log\n",
    "import numpy as np\n",
    "from os.path import join as __join\n",
    "import pandas as pd\n",
    "import time\n",
    "\n",
    "import cobra\n",
    "from cobra import Model, Reaction, Metabolite\n",
    "from cobra.flux_analysis import flux_variability_analysis"
   ]
  },
  {
   "cell_type": "markdown",
   "metadata": {},
   "source": [
    "### Model"
   ]
  },
  {
   "cell_type": "code",
   "execution_count": null,
   "metadata": {},
   "outputs": [],
   "source": [
    "def load_model_add_constraints(cobra_model_file):\n",
    "    cobra_model = cobra.io.load_json_model(cobra_model_file)\n",
    "    cobra_model.reactions.EX_photon_abs_.lower_bound = -331\n",
    "    return(cobra_model)"
   ]
  },
  {
   "cell_type": "markdown",
   "metadata": {},
   "source": [
    "# FVA Simualtions"
   ]
  },
  {
   "cell_type": "markdown",
   "metadata": {},
   "source": [
    "### Conditions"
   ]
  },
  {
   "cell_type": "code",
   "execution_count": null,
   "metadata": {},
   "outputs": [],
   "source": [
    "cond_1 = \"BIOMASS_biomass_WT526_c\""
   ]
  },
  {
   "cell_type": "code",
   "execution_count": null,
   "metadata": {},
   "outputs": [],
   "source": [
    "cond_2 = \"BIOMASS_biomass_MgACSBG31_c\""
   ]
  },
  {
   "cell_type": "code",
   "execution_count": null,
   "metadata": {},
   "outputs": [],
   "source": [
    "dict_experimental_growth = {\"BIOMASS_biomass_WT526_c\": 3.04E-02 ,\n",
    "                            \"BIOMASS_biomass_MgACSBG31_c\": 1.50E-02}"
   ]
  },
  {
   "cell_type": "markdown",
   "metadata": {},
   "source": [
    "### 1) FVA WT"
   ]
  },
  {
   "cell_type": "code",
   "execution_count": null,
   "metadata": {},
   "outputs": [],
   "source": [
    "iMgadit23 = load_model_add_constraints(__join(GEM_folder,modelfile))\n",
    "iMgadit23.objective = \"EX_photon_abs_\"\n",
    "for rxn in iMgadit23.reactions:\n",
    "    if rxn.id[0:16] == \"BIOMASS_biomass_\":\n",
    "        if rxn.id == cond_1:\n",
    "            rxn.lower_bound = dict_experimental_growth[rxn.id]\n",
    "            rxn.upper_bound = dict_experimental_growth[rxn.id]\n",
    "            print(rxn.id, \"bounds = \",rxn.lower_bound, rxn.upper_bound)\n",
    "        else:\n",
    "            rxn.lower_bound = 0\n",
    "            rxn.upper_bound = 0\n",
    "            print(rxn.id, \"bounds = \",rxn.lower_bound, rxn.upper_bound)\n",
    "df_FVA1 = flux_variability_analysis(iMgadit23,fraction_of_optimum=1)\n",
    "df_FVA1.columns = [\"FVA min WT\",\"FVA max WT\"]"
   ]
  },
  {
   "cell_type": "code",
   "execution_count": null,
   "metadata": {},
   "outputs": [],
   "source": [
    "df_FVA1"
   ]
  },
  {
   "cell_type": "code",
   "execution_count": null,
   "metadata": {},
   "outputs": [],
   "source": [
    "del iMgadit23"
   ]
  },
  {
   "cell_type": "code",
   "execution_count": null,
   "metadata": {},
   "outputs": [],
   "source": [
    "iMgadit23 = load_model_add_constraints(__join(GEM_folder,modelfile))\n",
    "iMgadit23.objective = \"EX_photon_abs_\"\n",
    "for rxn in iMgadit23.reactions:\n",
    "    if rxn.id[0:16] == \"BIOMASS_biomass_\":\n",
    "        if rxn.id == cond_2:\n",
    "            rxn.lower_bound = dict_experimental_growth[rxn.id]\n",
    "            rxn.upper_bound = dict_experimental_growth[rxn.id]\n",
    "            print(rxn.id, \"bounds = \",rxn.lower_bound,rxn.upper_bound)\n",
    "        else:\n",
    "            rxn.lower_bound = 0\n",
    "            rxn.upper_bound = 0\n",
    "            print(rxn.id, \"bounds = \",rxn.lower_bound,rxn.upper_bound)\n",
    "df_FVA2 = flux_variability_analysis(iMgadit23,fraction_of_optimum=1)\n",
    "df_FVA2.columns = [\"FVA min acsbg31\",\"FVA max acsbg31\"]"
   ]
  },
  {
   "cell_type": "code",
   "execution_count": null,
   "metadata": {},
   "outputs": [],
   "source": [
    "res_FVA = pd.concat([df_FVA1,df_FVA2], axis=1)"
   ]
  },
  {
   "cell_type": "code",
   "execution_count": null,
   "metadata": {
    "scrolled": true
   },
   "outputs": [],
   "source": [
    "res_FVA"
   ]
  },
  {
   "cell_type": "code",
   "execution_count": null,
   "metadata": {},
   "outputs": [],
   "source": [
    "res_FVA.to_csv(\"Res_FVA_raw.csv\",sep=\";\")"
   ]
  },
  {
   "cell_type": "code",
   "execution_count": null,
   "metadata": {},
   "outputs": [],
   "source": []
  }
 ],
 "metadata": {
  "kernelspec": {
   "display_name": "Python [conda env:iMgadit884_python36]",
   "language": "python",
   "name": "conda-env-iMgadit884_python36-py"
  },
  "language_info": {
   "codemirror_mode": {
    "name": "ipython",
    "version": 3
   },
   "file_extension": ".py",
   "mimetype": "text/x-python",
   "name": "python",
   "nbconvert_exporter": "python",
   "pygments_lexer": "ipython3",
   "version": "3.6.13"
  }
 },
 "nbformat": 4,
 "nbformat_minor": 2
}
