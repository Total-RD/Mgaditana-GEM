{
 "cells": [
  {
   "cell_type": "markdown",
   "metadata": {},
   "source": [
    "# Model validation: Predict Growth rate with limited NO3 uptake"
   ]
  },
  {
   "cell_type": "markdown",
   "metadata": {},
   "source": [
    "Data from Rafay et al., 2020 (DOI: 10.3389/fmars.2020.00077)"
   ]
  },
  {
   "cell_type": "markdown",
   "metadata": {},
   "source": [
    "### Directories"
   ]
  },
  {
   "cell_type": "code",
   "execution_count": 1,
   "metadata": {},
   "outputs": [],
   "source": [
    "GEM_folder = \"..\\\\..\\\\..\\\\..\\\\\" # to update if necessary"
   ]
  },
  {
   "cell_type": "code",
   "execution_count": 2,
   "metadata": {},
   "outputs": [],
   "source": [
    "modelfile = \"model\\\\iMgadit23.json\""
   ]
  },
  {
   "cell_type": "markdown",
   "metadata": {},
   "source": [
    "### Imports"
   ]
  },
  {
   "cell_type": "code",
   "execution_count": 3,
   "metadata": {},
   "outputs": [],
   "source": [
    "import cobra\n",
    "from cobra.flux_analysis.parsimonious import pfba\n",
    "import json\n",
    "import pandas as pd\n",
    "import numpy as np\n",
    "from os.path import join as __join\n",
    "from matplotlib import pyplot as plt\n"
   ]
  },
  {
   "cell_type": "code",
   "execution_count": 4,
   "metadata": {},
   "outputs": [
    {
     "name": "stdout",
     "output_type": "stream",
     "text": [
      "\n",
      "System Information\n",
      "==================\n",
      "OS         Windows\n",
      "OS-release      10\n",
      "Python      3.6.13\n",
      "\n",
      "Package Versions\n",
      "================\n",
      "appdirs                                      1.4.4\n",
      "black ; extra == 'development'       not installed\n",
      "bumpversion ; extra == 'development' not installed\n",
      "cobra                                       0.21.0\n",
      "depinfo                                      1.7.0\n",
      "diskcache                                    5.6.1\n",
      "future                                      0.18.3\n",
      "httpx                                       0.22.0\n",
      "importlib-resources                          5.4.0\n",
      "isort ; extra == 'development'       not installed\n",
      "numpy                                       1.19.5\n",
      "optlang                                      1.4.2\n",
      "pandas                                       1.1.5\n",
      "pip                                         21.2.2\n",
      "pydantic                                     1.9.2\n",
      "python-libsbml                              5.19.0\n",
      "rich                                         6.2.0\n",
      "ruamel.yaml                                0.17.32\n",
      "scipy                                        1.5.4\n",
      "setuptools                                  58.0.4\n",
      "six                                         1.16.0\n",
      "swiglpk                                      5.0.8\n",
      "tox ; extra == 'development'         not installed\n",
      "wheel                                       0.37.1\n"
     ]
    }
   ],
   "source": [
    "cobra.show_versions()"
   ]
  },
  {
   "cell_type": "markdown",
   "metadata": {},
   "source": [
    "### Model"
   ]
  },
  {
   "cell_type": "code",
   "execution_count": 5,
   "metadata": {},
   "outputs": [],
   "source": [
    "iMgadit = cobra.io.load_json_model(__join(GEM_folder, modelfile))"
   ]
  },
  {
   "cell_type": "markdown",
   "metadata": {},
   "source": [
    "### Bounds"
   ]
  },
  {
   "cell_type": "code",
   "execution_count": 6,
   "metadata": {},
   "outputs": [],
   "source": [
    "iMgadit.reactions.EX_photon_abs_.lower_bound =-1000\n",
    "iMgadit.reactions.NGAM_c.lower_bound= 2.2\n",
    "iMgadit.reactions.EX_nh4_.lower_bound = 0"
   ]
  },
  {
   "cell_type": "markdown",
   "metadata": {},
   "source": [
    "### Simulations"
   ]
  },
  {
   "cell_type": "code",
   "execution_count": 7,
   "metadata": {},
   "outputs": [],
   "source": [
    "no3_val = [1.33E-01,1.19E-01,1.24E-01]"
   ]
  },
  {
   "cell_type": "code",
   "execution_count": 8,
   "metadata": {},
   "outputs": [],
   "source": [
    "obj_rxn = \"BIOMASS_biomass_WT526_c\""
   ]
  },
  {
   "cell_type": "code",
   "execution_count": 9,
   "metadata": {},
   "outputs": [],
   "source": [
    "df_res = pd.DataFrame()\n",
    "for no3 in no3_val:\n",
    "    iMgadit.reactions.EX_no3_.lower_bound = - no3\n",
    "    iMgadit.objective = obj_rxn\n",
    "    solution = pfba(iMgadit)\n",
    "    df_res.loc[no3,\"Growth\"] = solution[\"BIOMASS_biomass_WT526_c\"]\n",
    "    df_res.loc[no3,\"NO3\"] = solution[\"EX_no3_\"]\n",
    "    df_res.loc[no3,\"NO2\"] = solution[\"EX_no2_\"]\n",
    "    df_res.loc[no3,\"NH4\"] = solution[\"EX_nh4_\"]\n",
    "    df_res.loc[no3,\"CO2\"] = solution[\"EX_co2_\"]\n",
    "    df_res.loc[no3,\"O2\"] = solution[\"EX_o2_\"]\n",
    "    df_res.loc[no3,\"Photon\"] = solution[\"EX_photon_abs_\"]"
   ]
  },
  {
   "cell_type": "code",
   "execution_count": 10,
   "metadata": {},
   "outputs": [
    {
     "data": {
      "text/html": [
       "<div>\n",
       "<style scoped>\n",
       "    .dataframe tbody tr th:only-of-type {\n",
       "        vertical-align: middle;\n",
       "    }\n",
       "\n",
       "    .dataframe tbody tr th {\n",
       "        vertical-align: top;\n",
       "    }\n",
       "\n",
       "    .dataframe thead th {\n",
       "        text-align: right;\n",
       "    }\n",
       "</style>\n",
       "<table border=\"1\" class=\"dataframe\">\n",
       "  <thead>\n",
       "    <tr style=\"text-align: right;\">\n",
       "      <th></th>\n",
       "      <th>Growth</th>\n",
       "      <th>NO3</th>\n",
       "      <th>NO2</th>\n",
       "      <th>NH4</th>\n",
       "      <th>CO2</th>\n",
       "      <th>O2</th>\n",
       "      <th>Photon</th>\n",
       "    </tr>\n",
       "  </thead>\n",
       "  <tbody>\n",
       "    <tr>\n",
       "      <th>0.133</th>\n",
       "      <td>0.026851</td>\n",
       "      <td>-0.133</td>\n",
       "      <td>0.0</td>\n",
       "      <td>0.0</td>\n",
       "      <td>-1.143048</td>\n",
       "      <td>1.561476</td>\n",
       "      <td>-22.979043</td>\n",
       "    </tr>\n",
       "    <tr>\n",
       "      <th>0.119</th>\n",
       "      <td>0.024025</td>\n",
       "      <td>-0.119</td>\n",
       "      <td>0.0</td>\n",
       "      <td>0.0</td>\n",
       "      <td>-1.022727</td>\n",
       "      <td>1.397110</td>\n",
       "      <td>-21.073770</td>\n",
       "    </tr>\n",
       "    <tr>\n",
       "      <th>0.124</th>\n",
       "      <td>0.025034</td>\n",
       "      <td>-0.124</td>\n",
       "      <td>0.0</td>\n",
       "      <td>0.0</td>\n",
       "      <td>-1.065699</td>\n",
       "      <td>1.455812</td>\n",
       "      <td>-21.755318</td>\n",
       "    </tr>\n",
       "  </tbody>\n",
       "</table>\n",
       "</div>"
      ],
      "text/plain": [
       "         Growth    NO3  NO2  NH4       CO2        O2     Photon\n",
       "0.133  0.026851 -0.133  0.0  0.0 -1.143048  1.561476 -22.979043\n",
       "0.119  0.024025 -0.119  0.0  0.0 -1.022727  1.397110 -21.073770\n",
       "0.124  0.025034 -0.124  0.0  0.0 -1.065699  1.455812 -21.755318"
      ]
     },
     "execution_count": 10,
     "metadata": {},
     "output_type": "execute_result"
    }
   ],
   "source": [
    "df_res"
   ]
  },
  {
   "cell_type": "code",
   "execution_count": 11,
   "metadata": {},
   "outputs": [],
   "source": [
    "df_res.to_csv(\"Res_growth_rates_Rafay2020_data.csv\",sep=\";\")"
   ]
  }
 ],
 "metadata": {
  "kernelspec": {
   "display_name": "Python [conda env:iMgadit884_python36]",
   "language": "python",
   "name": "conda-env-iMgadit884_python36-py"
  },
  "language_info": {
   "codemirror_mode": {
    "name": "ipython",
    "version": 3
   },
   "file_extension": ".py",
   "mimetype": "text/x-python",
   "name": "python",
   "nbconvert_exporter": "python",
   "pygments_lexer": "ipython3",
   "version": "3.6.13"
  }
 },
 "nbformat": 4,
 "nbformat_minor": 2
}
