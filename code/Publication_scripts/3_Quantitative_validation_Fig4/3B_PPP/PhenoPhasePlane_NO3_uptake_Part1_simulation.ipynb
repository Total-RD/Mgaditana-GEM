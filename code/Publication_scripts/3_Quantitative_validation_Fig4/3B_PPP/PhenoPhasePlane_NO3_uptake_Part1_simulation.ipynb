{
 "cells": [
  {
   "cell_type": "markdown",
   "metadata": {},
   "source": [
    "# MESH Plot NO3 uptake"
   ]
  },
  {
   "cell_type": "markdown",
   "metadata": {},
   "source": [
    "### Directories"
   ]
  },
  {
   "cell_type": "code",
   "execution_count": 1,
   "metadata": {},
   "outputs": [],
   "source": [
    "GEM_folder = \"..\\\\..\\\\..\\\\..\""
   ]
  },
  {
   "cell_type": "code",
   "execution_count": 2,
   "metadata": {},
   "outputs": [],
   "source": [
    "modelfile = \"model\\\\iMgadit23.json\""
   ]
  },
  {
   "cell_type": "markdown",
   "metadata": {},
   "source": [
    "### Imports"
   ]
  },
  {
   "cell_type": "code",
   "execution_count": 3,
   "metadata": {},
   "outputs": [],
   "source": [
    "# Imports\n",
    "import cobra\n",
    "from cobra.flux_analysis.parsimonious import pfba\n",
    "import json\n",
    "import numpy as np\n",
    "import pandas as pd\n",
    "\n",
    "from os.path import join as __join\n",
    "\n",
    "import matplotlib.pyplot as plt\n"
   ]
  },
  {
   "cell_type": "markdown",
   "metadata": {},
   "source": [
    "### Model"
   ]
  },
  {
   "cell_type": "code",
   "execution_count": 4,
   "metadata": {},
   "outputs": [],
   "source": [
    "iMgadit23 = cobra.io.load_json_model(__join(GEM_folder, modelfile))"
   ]
  },
  {
   "cell_type": "markdown",
   "metadata": {},
   "source": [
    "### Media"
   ]
  },
  {
   "cell_type": "code",
   "execution_count": 5,
   "metadata": {},
   "outputs": [
    {
     "data": {
      "text/plain": [
       "2.2"
      ]
     },
     "execution_count": 5,
     "metadata": {},
     "output_type": "execute_result"
    }
   ],
   "source": [
    "iMgadit23.reactions.NGAM_c.lower_bound"
   ]
  },
  {
   "cell_type": "code",
   "execution_count": 6,
   "metadata": {},
   "outputs": [],
   "source": [
    "iMgadit23.reactions.EX_no3_.lower_bound = -1.25E-01"
   ]
  },
  {
   "cell_type": "code",
   "execution_count": 7,
   "metadata": {},
   "outputs": [
    {
     "name": "stderr",
     "output_type": "stream",
     "text": [
      "C:\\Local\\Programmes\\Anaconda3\\envs\\iMgadit884_python36\\lib\\site-packages\\cobra\\core\\metabolite.py:105: UserWarning: 42.44882023256878 is not an integer (in formula C42.44882023256878H76.4292448299964O20.879111330619708N4.814750300170175P0.20036104118307208S0.14620606060000002Mg0.030432563599999997)\n",
      "  % (count, self.formula)\n",
      "C:\\Local\\Programmes\\Anaconda3\\envs\\iMgadit884_python36\\lib\\site-packages\\cobra\\core\\metabolite.py:105: UserWarning: 76.4292448299964 is not an integer (in formula C42.44882023256878H76.4292448299964O20.879111330619708N4.814750300170175P0.20036104118307208S0.14620606060000002Mg0.030432563599999997)\n",
      "  % (count, self.formula)\n",
      "C:\\Local\\Programmes\\Anaconda3\\envs\\iMgadit884_python36\\lib\\site-packages\\cobra\\core\\metabolite.py:105: UserWarning: 20.879111330619708 is not an integer (in formula C42.44882023256878H76.4292448299964O20.879111330619708N4.814750300170175P0.20036104118307208S0.14620606060000002Mg0.030432563599999997)\n",
      "  % (count, self.formula)\n",
      "C:\\Local\\Programmes\\Anaconda3\\envs\\iMgadit884_python36\\lib\\site-packages\\cobra\\core\\metabolite.py:105: UserWarning: 4.814750300170175 is not an integer (in formula C42.44882023256878H76.4292448299964O20.879111330619708N4.814750300170175P0.20036104118307208S0.14620606060000002Mg0.030432563599999997)\n",
      "  % (count, self.formula)\n",
      "C:\\Local\\Programmes\\Anaconda3\\envs\\iMgadit884_python36\\lib\\site-packages\\cobra\\core\\metabolite.py:105: UserWarning: 0.20036104118307208 is not an integer (in formula C42.44882023256878H76.4292448299964O20.879111330619708N4.814750300170175P0.20036104118307208S0.14620606060000002Mg0.030432563599999997)\n",
      "  % (count, self.formula)\n",
      "C:\\Local\\Programmes\\Anaconda3\\envs\\iMgadit884_python36\\lib\\site-packages\\cobra\\core\\metabolite.py:105: UserWarning: 0.14620606060000002 is not an integer (in formula C42.44882023256878H76.4292448299964O20.879111330619708N4.814750300170175P0.20036104118307208S0.14620606060000002Mg0.030432563599999997)\n",
      "  % (count, self.formula)\n",
      "C:\\Local\\Programmes\\Anaconda3\\envs\\iMgadit884_python36\\lib\\site-packages\\cobra\\core\\metabolite.py:105: UserWarning: 0.030432563599999997 is not an integer (in formula C42.44882023256878H76.4292448299964O20.879111330619708N4.814750300170175P0.20036104118307208S0.14620606060000002Mg0.030432563599999997)\n",
      "  % (count, self.formula)\n"
     ]
    },
    {
     "data": {
      "text/html": [
       "<h3>Objective</h3><p>1.0 BIOMASS_biomass_WT526_c = 0.02523624774949431</p><h4>Uptake</h4><table border=\"1\" class=\"dataframe\">\n",
       "  <thead>\n",
       "    <tr style=\"text-align: right;\">\n",
       "      <th>Metabolite</th>\n",
       "      <th>Reaction</th>\n",
       "      <th>Flux</th>\n",
       "      <th>C-Number</th>\n",
       "      <th>C-Flux</th>\n",
       "    </tr>\n",
       "  </thead>\n",
       "  <tbody>\n",
       "    <tr>\n",
       "      <td>co2_e</td>\n",
       "      <td>EX_co2_</td>\n",
       "      <td>1.074</td>\n",
       "      <td>1</td>\n",
       "      <td>99.57%</td>\n",
       "    </tr>\n",
       "    <tr>\n",
       "      <td>fuc__L_e</td>\n",
       "      <td>EX_fuc__L_</td>\n",
       "      <td>0.0004813</td>\n",
       "      <td>6</td>\n",
       "      <td>0.27%</td>\n",
       "    </tr>\n",
       "    <tr>\n",
       "      <td>h2o_e</td>\n",
       "      <td>EX_h2o_</td>\n",
       "      <td>0.8986</td>\n",
       "      <td>0</td>\n",
       "      <td>0.00%</td>\n",
       "    </tr>\n",
       "    <tr>\n",
       "      <td>h_e</td>\n",
       "      <td>EX_h_</td>\n",
       "      <td>0.1278</td>\n",
       "      <td>0</td>\n",
       "      <td>0.00%</td>\n",
       "    </tr>\n",
       "    <tr>\n",
       "      <td>man_e</td>\n",
       "      <td>EX_man_</td>\n",
       "      <td>0.0002924</td>\n",
       "      <td>6</td>\n",
       "      <td>0.16%</td>\n",
       "    </tr>\n",
       "    <tr>\n",
       "      <td>mg2_e</td>\n",
       "      <td>EX_mg2_</td>\n",
       "      <td>0.000768</td>\n",
       "      <td>0</td>\n",
       "      <td>0.00%</td>\n",
       "    </tr>\n",
       "    <tr>\n",
       "      <td>no3_e</td>\n",
       "      <td>EX_no3_</td>\n",
       "      <td>0.125</td>\n",
       "      <td>0</td>\n",
       "      <td>0.00%</td>\n",
       "    </tr>\n",
       "    <tr>\n",
       "      <td>photon_abs_e</td>\n",
       "      <td>EX_photon_abs_</td>\n",
       "      <td>21.89</td>\n",
       "      <td>0</td>\n",
       "      <td>0.00%</td>\n",
       "    </tr>\n",
       "    <tr>\n",
       "      <td>pi_e</td>\n",
       "      <td>EX_pi_</td>\n",
       "      <td>0.005056</td>\n",
       "      <td>0</td>\n",
       "      <td>0.00%</td>\n",
       "    </tr>\n",
       "    <tr>\n",
       "      <td>so4_e</td>\n",
       "      <td>EX_so4_</td>\n",
       "      <td>0.004388</td>\n",
       "      <td>0</td>\n",
       "      <td>0.00%</td>\n",
       "    </tr>\n",
       "  </tbody>\n",
       "</table><h4>Secretion</h4><table border=\"1\" class=\"dataframe\">\n",
       "  <thead>\n",
       "    <tr style=\"text-align: right;\">\n",
       "      <th>Metabolite</th>\n",
       "      <th>Reaction</th>\n",
       "      <th>Flux</th>\n",
       "      <th>C-Number</th>\n",
       "      <th>C-Flux</th>\n",
       "    </tr>\n",
       "  </thead>\n",
       "  <tbody>\n",
       "    <tr>\n",
       "      <td>BIOMASS_biomass_WT526_c</td>\n",
       "      <td>DM_BIOMASS_biomass_WT526_</td>\n",
       "      <td>-0.02524</td>\n",
       "      <td>42.44882</td>\n",
       "      <td>99.29%</td>\n",
       "    </tr>\n",
       "    <tr>\n",
       "      <td>5mta_e</td>\n",
       "      <td>EX_5mta_</td>\n",
       "      <td>-0.0006988</td>\n",
       "      <td>11.00000</td>\n",
       "      <td>0.71%</td>\n",
       "    </tr>\n",
       "    <tr>\n",
       "      <td>o2_e</td>\n",
       "      <td>EX_o2_</td>\n",
       "      <td>-1.468</td>\n",
       "      <td>0.00000</td>\n",
       "      <td>0.00%</td>\n",
       "    </tr>\n",
       "  </tbody>\n",
       "</table>"
      ],
      "text/plain": [
       "<cobra.summary.model_summary.ModelSummary at 0x2277ab5f780>"
      ]
     },
     "execution_count": 7,
     "metadata": {},
     "output_type": "execute_result"
    }
   ],
   "source": [
    "iMgadit23.reactions.EX_photon_abs_.lower_bound = -100\n",
    "iMgadit23.objective = \"BIOMASS_biomass_WT526_c\"\n",
    "solution = pfba(iMgadit23)\n",
    "iMgadit23.summary()"
   ]
  },
  {
   "cell_type": "markdown",
   "metadata": {},
   "source": [
    "# Phenotypic phase plan"
   ]
  },
  {
   "cell_type": "markdown",
   "metadata": {},
   "source": [
    "### Function"
   ]
  },
  {
   "cell_type": "code",
   "execution_count": 8,
   "metadata": {},
   "outputs": [],
   "source": [
    "def phenotypic_phase_plan(model,var1,var2,obj_rxn,file_name,min_axe,max_axe):\n",
    " \n",
    "    # 1) Generate variables values\n",
    "    res_dict = {}\n",
    "    idx = 0\n",
    "    matrice=pd.DataFrame(np.zeros((len(var1[\"values\"]),len(var2[\"values\"]))),index=var1[\"values\"],columns=var2[\"values\"]) \n",
    "\n",
    "    # 2) Set bounds\n",
    "    for v1 in var1[\"values\"]:\n",
    "        # v1 flux\n",
    "        model.reactions.get_by_id(var1[\"rxn_id\"]).upper_bound = 0\n",
    "        model.reactions.get_by_id(var1[\"rxn_id\"]).lower_bound = -v1\n",
    "\n",
    "        # v2 flux\n",
    "        for v2 in var2[\"values\"]:\n",
    "\n",
    "            flag = True \n",
    "\n",
    "            model.reactions.get_by_id(var2[\"rxn_id\"]).upper_bound = 0\n",
    "            model.reactions.get_by_id(var2[\"rxn_id\"]).lower_bound = -v2\n",
    "\n",
    "        # 3) Simulation (pFBA)\n",
    "            model.objective= obj_rxn\n",
    "\n",
    "            try:\n",
    "                sol = pfba(model)\n",
    "                res_dict[idx] = [v1,v2,sol[\"EX_no3_\"],sol[\"EX_co2_\"],sol[\"EX_photon_abs_\"],sol[obj_rxn]]\n",
    "                matrice.at[v1,v2]= sol[obj_rxn]\n",
    "\n",
    "            except :\n",
    "                sol = -1\n",
    "                res_dict[idx] = [sol,sol,sol,sol,sol,sol]\n",
    "                matrice.at[v1,v2]= sol\n",
    "            idx += 1\n",
    "\n",
    "    # 4) save dataframes to csv\n",
    "    res_df = pd.DataFrame.from_dict(res_dict,orient='index',columns=[\"Variable 1: \"+ var1[\"rxn_id\"],\"Variable 1: \" + var2[\"rxn_id\"],\"EX_no3_\",\"EX_co2_\",\"EX_photon_abs\",obj_rxn + \" flux\"])\n",
    "    res_df.to_csv(file_name+\"DF.csv\",sep=\";\")\n",
    "    matrice.to_csv(file_name+\"matrice.csv\",sep=\";\")\n",
    "    \n",
    "    \n",
    "    return(res_df,matrice)"
   ]
  },
  {
   "cell_type": "markdown",
   "metadata": {},
   "source": [
    "## 1) NO3 vs photons"
   ]
  },
  {
   "cell_type": "code",
   "execution_count": 9,
   "metadata": {},
   "outputs": [],
   "source": [
    "objective = \"BIOMASS_biomass_WT526_c\""
   ]
  },
  {
   "cell_type": "code",
   "execution_count": 10,
   "metadata": {
    "scrolled": true
   },
   "outputs": [],
   "source": [
    "file = \"PPP_no3_vs_photon\" # to save all data\n",
    "\n",
    "\n",
    "# NO3\n",
    "variable_1 = {\"metabo_id\": \"NO3\",\n",
    "             \"rxn_id\": \"EX_no3_\",\n",
    "             \"min\": 0,\n",
    "             \"max\":0.125,\n",
    "             \"step\":0.005} \n",
    "\n",
    "variable_1[\"values\"] = np.arange(variable_1[\"min\"],variable_1[\"max\"]+variable_1[\"step\"],variable_1[\"step\"])\n",
    "\n",
    "# photons\n",
    "variable_2 = {\"metabo_id\": \"Photon uptake\",\n",
    "             \"rxn_id\": \"EX_photon_abs_\",\n",
    "             \"min\": 0,\n",
    "             \"max\":25,\n",
    "             \"step\":1 }\n",
    "\n",
    "variable_2[\"values\"] = np.arange(variable_2[\"min\"],variable_2[\"max\"]+variable_2[\"step\"],variable_2[\"step\"])\n",
    "\n",
    "    \n",
    "file_name = file + \"_\" + objective[:-1]\n",
    "\n",
    "# Reload model\n",
    "iMgadit23 = cobra.io.load_json_model(__join(GEM_folder, modelfile))\n",
    "# NO3 and CO2 unlimeted by default\n",
    "\n",
    "res1 = phenotypic_phase_plan(iMgadit23,variable_1,variable_2,objective,file_name,min_axe=0,max_axe=25)"
   ]
  },
  {
   "cell_type": "markdown",
   "metadata": {},
   "source": [
    "# 2) NO3 vs CO2"
   ]
  },
  {
   "cell_type": "code",
   "execution_count": 11,
   "metadata": {},
   "outputs": [],
   "source": [
    "file = \"PPP_no3_vs_co2\" # to save all data\n",
    "\n",
    "# NO3\n",
    "variable_1 = {\"metabo_id\": \"NO3\",\n",
    "             \"rxn_id\": \"EX_no3_\",\n",
    "             \"min\": 0,\n",
    "             \"max\":0.125,\n",
    "             \"step\":0.00625}\n",
    "\n",
    "variable_1[\"values\"] = np.arange(variable_1[\"min\"],variable_1[\"max\"]+variable_1[\"step\"],variable_1[\"step\"])\n",
    "\n",
    "# CO2\n",
    "variable_2 = {\"metabo_id\": \"CO2 uptake\",\n",
    "             \"rxn_id\": \"EX_co2_\",\n",
    "             \"min\": 0,\n",
    "             \"max\":1.2,\n",
    "             \"step\":0.06 }\n",
    "\n",
    "variable_2[\"values\"] = np.arange(variable_2[\"min\"],variable_2[\"max\"]+variable_2[\"step\"],variable_2[\"step\"])\n",
    "\n",
    "file_name = file + \"_\" + objective[:-1]\n",
    "\n",
    "# Reload model\n",
    "iMgadit23 = cobra.io.load_json_model(__join(GEM_folder, modelfile))\n",
    "iMgadit23.reactions.EX_photon_abs_.lower_bound = -100000\n",
    "res2 = phenotypic_phase_plan(iMgadit23,variable_1,variable_2,objective,file_name,min_axe=0,max_axe=25)"
   ]
  }
 ],
 "metadata": {
  "kernelspec": {
   "display_name": "Python [conda env:iMgadit884_python36]",
   "language": "python",
   "name": "conda-env-iMgadit884_python36-py"
  },
  "language_info": {
   "codemirror_mode": {
    "name": "ipython",
    "version": 3
   },
   "file_extension": ".py",
   "mimetype": "text/x-python",
   "name": "python",
   "nbconvert_exporter": "python",
   "pygments_lexer": "ipython3",
   "version": "3.6.13"
  }
 },
 "nbformat": 4,
 "nbformat_minor": 2
}
